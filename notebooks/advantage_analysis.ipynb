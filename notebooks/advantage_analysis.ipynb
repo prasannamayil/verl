{
 "cells": [
  {
   "cell_type": "code",
   "execution_count": 1,
   "metadata": {},
   "outputs": [],
   "source": [
    "import numpy as np\n",
    "import os\n",
    "os.chdir('/fast/pmayilvahanan/post_training/temp_verl/verl/notebooks')\n",
    "import torch\n",
    "from utils import compute_pass_at_k, load_advantages"
   ]
  },
  {
   "cell_type": "code",
   "execution_count": 47,
   "metadata": {},
   "outputs": [],
   "source": [
    "\n",
    "# Model checkpoints with different training steps\n",
    "\n",
    "base_dir = '/fast/pmayilvahanan/post_training/verl_checkpoints'\n",
    "\n",
    "# checkpoints = {\n",
    "#     'qwen2-7b_step_6': os.path.join(base_dir, 'qwen2-7b_function_rm_sft_init_gsm8k_steps_6'),\n",
    "#     'qwen2-7b_step_12': os.path.join(base_dir, 'qwen2-7b_function_rm_sft_init_gsm8k_steps_12'),\n",
    "#     'qwen2-7b_step_18': os.path.join(base_dir, 'qwen2-7b_function_rm_sft_init_gsm8k_steps_18'),\n",
    "#     'qwen2-7b_step_24': os.path.join(base_dir, 'qwen2-7b_function_rm_sft_init_gsm8k_steps_24'),\n",
    "#     'qwen2-7b_step_30': os.path.join(base_dir, 'qwen2-7b_function_rm_sft_init_gsm8k_steps_30'),\n",
    "#     'qqwen2-7b_step_1': os.path.join(base_dir, 'qqwen2-7b_sft_gsm8k_epochs_1_lr_1e-5_rl_step_1'),\n",
    "#     'qqwen2-7b_step_3': os.path.join(base_dir, 'qqwen2-7b_sft_gsm8k_epochs_1_lr_1e-5_rl_step_3'),\n",
    "# }\n",
    "\n",
    "checkpoints = {\n",
    "    'qwen2-1b_step_0': os.path.join(base_dir, 'qwen2_1.5b_grpo_gsm8k_debug'),\n",
    "}\n",
    "\n",
    "dir_small_12 = os.path.join(base_dir, 'qwen2-1.5b_sft_gsm8k_epochs_5_lr_1e-5_rl_step_12')\n"
   ]
  },
  {
   "cell_type": "code",
   "execution_count": 50,
   "metadata": {},
   "outputs": [
    {
     "name": "stdout",
     "output_type": "stream",
     "text": [
      "Loaded val advantages for qwen2-1b_step_0\n"
     ]
    }
   ],
   "source": [
    "# advantages = {}\n",
    "# for adv_type in ['train', 'val']:\n",
    "#     advantages[adv_type] = {}\n",
    "#     for epoch in [-1, 0, 1, 2, 3, 4]:\n",
    "#         if epoch == -1:\n",
    "#             epoch = None\n",
    "#         advantages[adv_type][epoch] = load_advantages(checkpoints, split=adv_type, epoch=epoch)\n",
    "\n",
    "\n",
    "advantages = {}\n",
    "for adv_type in ['val']:\n",
    "    advantages[adv_type] = {}\n",
    "    for epoch in [-1]:\n",
    "        if epoch == -1:\n",
    "            epoch = None\n",
    "        advantages[adv_type][epoch] = load_advantages(checkpoints, split=adv_type, epoch=epoch)"
   ]
  },
  {
   "cell_type": "code",
   "execution_count": 55,
   "metadata": {},
   "outputs": [
    {
     "data": {
      "text/plain": [
       "[{'prompt': 'system\\nYou are a helpful assistant.\\nuser\\nJames decides to run 3 sprints 3 times a week.  He runs 60 meters each sprint.  How many total meters does he run a week? Let\\'s think step by step and output the final answer after \"####\".\\nassistant\\n James runs 3 sprints each week, and he runs 60 meters each sprint. So, in one week, he runs a total of 3 x 60 = 180 meters.\\nHe runs this 180 meters 3 times a week, so in total, he runs 180 x 3 = 540 meters a week.\\nThe answer is: $540$',\n",
       "  'response': ' James runs 3 sprints each week, and he runs 60 meters each sprint. So, in one week, he runs a total of 3 x 60 = 180 meters.\\nHe runs this 180 meters 3 times a week, so in total, he runs 180 x 3 = 540 meters a week.\\nThe answer is: $540$',\n",
       "  'advantage': -0.4743405,\n",
       "  'score': 0.0},\n",
       " {'prompt': 'system\\nYou are a helpful assistant.\\nuser\\nJames decides to run 3 sprints 3 times a week.  He runs 60 meters each sprint.  How many total meters does he run a week? Let\\'s think step by step and output the final answer after \"####\".\\nassistant\\nJames runs 3 sprints 3 times a week, so that\\'s 3 x 3 = 9 sprints in total.\\nEach sprint is 60 meters, so the total distance he runs in a week is 9 x 60 = 540 meters.\\nThe answer is: $540$.',\n",
       "  'response': \"James runs 3 sprints 3 times a week, so that's 3 x 3 = 9 sprints in total.\\nEach sprint is 60 meters, so the total distance he runs in a week is 9 x 60 = 540 meters.\\nThe answer is: $540$.\",\n",
       "  'advantage': -0.4743405,\n",
       "  'score': 0.0},\n",
       " {'prompt': 'system\\nYou are a helpful assistant.\\nuser\\nJames decides to run 3 sprints 3 times a week.  He runs 60 meters each sprint.  How many total meters does he run a week? Let\\'s think step by step and output the final answer after \"####\".\\nassistant\\n James runs 3 sprints each week, and each sprint he runs 60 meters. So, the total distance he runs in one week is 3 * 60 = 180 meters.\\n\\nHe runs this 180 meters 3 times a week, so the total distance he runs in a week is 180 * 3 = 540 meters.\\nThe answer is $\\\\boxed{540}$.',\n",
       "  'response': ' James runs 3 sprints each week, and each sprint he runs 60 meters. So, the total distance he runs in one week is 3 * 60 = 180 meters.\\n\\nHe runs this 180 meters 3 times a week, so the total distance he runs in a week is 180 * 3 = 540 meters.\\nThe answer is $\\\\boxed{540}$.',\n",
       "  'advantage': -0.4743405,\n",
       "  'score': 0.0},\n",
       " {'prompt': 'system\\nYou are a helpful assistant.\\nuser\\nJames decides to run 3 sprints 3 times a week.  He runs 60 meters each sprint.  How many total meters does he run a week? Let\\'s think step by step and output the final answer after \"####\".\\nassistant\\nJames runs 60 meters in each of the 3 sprints. So, for each session, he runs:\\n\\n60 meters/sprint * 3 sprints = 180 meters/session\\n\\nSince he runs this session 3 times a week, the total miles he runs in a week is:\\n\\n180 meters/session * 3 sessions/week = 540 meters/week\\n\\nSo, the answer is:\\n\\n#### 540',\n",
       "  'response': 'James runs 60 meters in each of the 3 sprints. So, for each session, he runs:\\n\\n60 meters/sprint * 3 sprints = 180 meters/session\\n\\nSince he runs this session 3 times a week, the total miles he runs in a week is:\\n\\n180 meters/session * 3 sessions/week = 540 meters/week\\n\\nSo, the answer is:\\n\\n#### 540',\n",
       "  'advantage': 1.897362,\n",
       "  'score': 1.0},\n",
       " {'prompt': 'system\\nYou are a helpful assistant.\\nuser\\nJames decides to run 3 sprints 3 times a week.  He runs 60 meters each sprint.  How many total meters does he run a week? Let\\'s think step by step and output the final answer after \"####\".\\nassistant\\nTo calculate the total distance James runs in 3 sprints 3 times a week, we need to multiply the distance of one sprint (60 meters) by the number of sprints (3) and by the number of times per week he does the sprints (3).\\n\\nSo, the total distance run per week is:\\n\\n\\\\(60 \\\\text{ meters/sprint} \\\\times 3 \\\\text{sprints} \\\\times 3 \\\\text{ times per week}\\\\)\\n\\n\\\\(= 180 \\\\text{ meters} \\\\times 3 \\\\text{ times}\\\\)\\n\\n\\\\(= 540 \\\\text{ meters}\\\\)\\n\\nTherefore, James runs a total of 540 meters per week.',\n",
       "  'response': 'To calculate the total distance James runs in 3 sprints 3 times a week, we need to multiply the distance of one sprint (60 meters) by the number of sprints (3) and by the number of times per week he does the sprints (3).\\n\\nSo, the total distance run per week is:\\n\\n\\\\(60 \\\\text{ meters/sprint} \\\\times 3 \\\\text{sprints} \\\\times 3 \\\\text{ times per week}\\\\)\\n\\n\\\\(= 180 \\\\text{ meters} \\\\times 3 \\\\text{ times}\\\\)\\n\\n\\\\(= 540 \\\\text{ meters}\\\\)\\n\\nTherefore, James runs a total of 540 meters per week.',\n",
       "  'advantage': -0.4743405,\n",
       "  'score': 0.0},\n",
       " {'prompt': 'system\\nYou are a helpful assistant.\\nuser\\nJames decides to run 3 sprints 3 times a week.  He runs 60 meters each sprint.  How many total meters does he run a week? Let\\'s think step by step and output the final answer after \"####\".\\nassistant\\n James runs 3 sprints, each sprint is 60 meters, so he runs 3 * 60 = 180 meters per week.\\nHe does this 3 times a week, so he runs a total of 180 * 3 = 540 meters a week.\\nThe answer is: #### 540',\n",
       "  'response': ' James runs 3 sprints, each sprint is 60 meters, so he runs 3 * 60 = 180 meters per week.\\nHe does this 3 times a week, so he runs a total of 180 * 3 = 540 meters a week.\\nThe answer is: #### 540',\n",
       "  'advantage': 1.897362,\n",
       "  'score': 1.0},\n",
       " {'prompt': 'system\\nYou are a helpful assistant.\\nuser\\nJames decides to run 3 sprints 3 times a week.  He runs 60 meters each sprint.  How many total meters does he run a week? Let\\'s think step by step and output the final answer after \"####\".\\nassistant\\n James runs 3 sprints per week, and each sprint is 60 meters. So the total number of meters he runs in one week is 3 sprints * 60 meters/sprint = 180 meters.\\n\\nSo he runs 180 meters a week.\\n\\nThe answer is $\\\\boxed{180}$.',\n",
       "  'response': ' James runs 3 sprints per week, and each sprint is 60 meters. So the total number of meters he runs in one week is 3 sprints * 60 meters/sprint = 180 meters.\\n\\nSo he runs 180 meters a week.\\n\\nThe answer is $\\\\boxed{180}$.',\n",
       "  'advantage': -0.4743405,\n",
       "  'score': 0.0},\n",
       " {'prompt': 'system\\nYou are a helpful assistant.\\nuser\\nJames decides to run 3 sprints 3 times a week.  He runs 60 meters each sprint.  How many total meters does he run a week? Let\\'s think step by step and output the final answer after \"####\".\\nassistant\\n James runs 60 meters each sprint and he runs this sprint 3 times a week. Therefore, the total number of meters he runs in a week is 60 meters/sprint * 3 sprints * 3 weeks = 540 meters. So the answer is 540.',\n",
       "  'response': ' James runs 60 meters each sprint and he runs this sprint 3 times a week. Therefore, the total number of meters he runs in a week is 60 meters/sprint * 3 sprints * 3 weeks = 540 meters. So the answer is 540.',\n",
       "  'advantage': -0.4743405,\n",
       "  'score': 0.0},\n",
       " {'prompt': 'system\\nYou are a helpful assistant.\\nuser\\nJames decides to run 3 sprints 3 times a week.  He runs 60 meters each sprint.  How many total meters does he run a week? Let\\'s think step by step and output the final answer after \"####\".\\nassistant\\nJames runs 60 meters for each of the 3 sprints, so he runs a total of \\\\(3 \\\\times 60 = 180\\\\) meters for each workout.\\n\\nSince he does this three times a week, the total distance he runs in a week is \\\\(180 \\\\times 3 = 540\\\\) meters.',\n",
       "  'response': 'James runs 60 meters for each of the 3 sprints, so he runs a total of \\\\(3 \\\\times 60 = 180\\\\) meters for each workout.\\n\\nSince he does this three times a week, the total distance he runs in a week is \\\\(180 \\\\times 3 = 540\\\\) meters.',\n",
       "  'advantage': -0.4743405,\n",
       "  'score': 0.0},\n",
       " {'prompt': 'system\\nYou are a helpful assistant.\\nuser\\nJames decides to run 3 sprints 3 times a week.  He runs 60 meters each sprint.  How many total meters does he run a week? Let\\'s think step by step and output the final answer after \"####\".\\nassistant\\nJames runs 3 sprints, and each sprint is 60 meters long. So, to find the total meters he runs, we multiply the number of sprints by the length of each sprint. That is, 3 sprints * 60 meters/sprint = 180 meters.\\n\\nHowever, the question asks how many total meters he runs a week. This means we need to multiply the weekly total miles (180 meters) by the number of days he runs each week (3 times a week). So we multiply 180 meters by 3 days.\\n\\nThat\\'s 180 meters * 3 days = 540 meters.\\n\\nSo, James runs 540 meters a week.\\n\\nThe answer is: $\\\\boxed{540}$.',\n",
       "  'response': \"James runs 3 sprints, and each sprint is 60 meters long. So, to find the total meters he runs, we multiply the number of sprints by the length of each sprint. That is, 3 sprints * 60 meters/sprint = 180 meters.\\n\\nHowever, the question asks how many total meters he runs a week. This means we need to multiply the weekly total miles (180 meters) by the number of days he runs each week (3 times a week). So we multiply 180 meters by 3 days.\\n\\nThat's 180 meters * 3 days = 540 meters.\\n\\nSo, James runs 540 meters a week.\\n\\nThe answer is: $\\\\boxed{540}$.\",\n",
       "  'advantage': -0.4743405,\n",
       "  'score': 0.0}]"
      ]
     },
     "execution_count": 55,
     "metadata": {},
     "output_type": "execute_result"
    }
   ],
   "source": [
    "advantages['val'][None]['qwen2-1b_step_0']['samples'][3]"
   ]
  },
  {
   "cell_type": "code",
   "execution_count": 24,
   "metadata": {},
   "outputs": [
    {
     "name": "stdout",
     "output_type": "stream",
     "text": [
      "(0.9778180803571429, 0.9924665178571429, 7168)\n",
      "(0.9761439732142857, 0.9933035714285714, 7168)\n",
      "(0.8567073170731707, 0.9420731707317073, 1312)\n",
      "(0.8536585365853658, 0.9451219512195121, 1312)\n"
     ]
    }
   ],
   "source": [
    "print(compute_pass_at_k(advantages['train'][None]['qwen2-7b_step_6']))\n",
    "print(compute_pass_at_k(advantages['train'][4]['qwen2-7b_step_6']))\n",
    "\n",
    "print(compute_pass_at_k(advantages['val'][None]['qwen2-7b_step_6']))\n",
    "print(compute_pass_at_k(advantages['val'][4]['qwen2-7b_step_6']))"
   ]
  },
  {
   "cell_type": "code",
   "execution_count": null,
   "metadata": {},
   "outputs": [],
   "source": []
  },
  {
   "cell_type": "code",
   "execution_count": null,
   "metadata": {},
   "outputs": [],
   "source": []
  },
  {
   "cell_type": "code",
   "execution_count": 20,
   "metadata": {},
   "outputs": [
    {
     "name": "stdout",
     "output_type": "stream",
     "text": [
      "(0.7854352678571429, 0.9772600446428571, 7168)\n",
      "(0.9695870535714286, 0.9942801339285714, 7168)\n",
      "(0.5960365853658537, 0.8940548780487805, 1312)\n",
      "(0.8102134146341463, 0.9291158536585366, 1312)\n"
     ]
    }
   ],
   "source": [
    "print(compute_pass_at_k(advantages['train'][None]['qwen2-7b_step_12']))\n",
    "print(compute_pass_at_k(advantages['train'][4]['qwen2-7b_step_12']))\n",
    "\n",
    "print(compute_pass_at_k(advantages['val'][None]['qwen2-7b_step_12']))\n",
    "print(compute_pass_at_k(advantages['val'][4]['qwen2-7b_step_12']))"
   ]
  },
  {
   "cell_type": "code",
   "execution_count": 21,
   "metadata": {},
   "outputs": [
    {
     "name": "stdout",
     "output_type": "stream",
     "text": [
      "(0.798828125, 0.978515625, 7168)\n",
      "(0.9698660714285714, 0.9952566964285714, 7168)\n",
      "(0.618140243902439, 0.895579268292683, 1312)\n",
      "(0.8003048780487805, 0.9367378048780488, 1312)\n"
     ]
    }
   ],
   "source": [
    "print(compute_pass_at_k(advantages['train'][None]['qwen2-7b_step_18']))\n",
    "print(compute_pass_at_k(advantages['train'][4]['qwen2-7b_step_18']))\n",
    "\n",
    "print(compute_pass_at_k(advantages['val'][None]['qwen2-7b_step_18']))\n",
    "print(compute_pass_at_k(advantages['val'][4]['qwen2-7b_step_18']))"
   ]
  },
  {
   "cell_type": "code",
   "execution_count": 22,
   "metadata": {},
   "outputs": [
    {
     "name": "stdout",
     "output_type": "stream",
     "text": [
      "(0.8113839285714286, 0.9829799107142857, 7168)\n",
      "(0.9729352678571429, 0.9959542410714286, 7168)\n",
      "(0.6227134146341463, 0.8902439024390244, 1312)\n",
      "(0.7911585365853658, 0.9405487804878049, 1312)\n"
     ]
    }
   ],
   "source": [
    "print(compute_pass_at_k(advantages['train'][None]['qwen2-7b_step_24']))\n",
    "print(compute_pass_at_k(advantages['train'][4]['qwen2-7b_step_24']))\n",
    "\n",
    "print(compute_pass_at_k(advantages['val'][None]['qwen2-7b_step_24']))\n",
    "print(compute_pass_at_k(advantages['val'][4]['qwen2-7b_step_24']))"
   ]
  },
  {
   "cell_type": "code",
   "execution_count": 23,
   "metadata": {},
   "outputs": [
    {
     "name": "stdout",
     "output_type": "stream",
     "text": [
      "(0.8373325892857143, 0.9845145089285714, 7168)\n",
      "(0.9734933035714286, 0.9952566964285714, 7168)\n",
      "(0.6242378048780488, 0.9024390243902439, 1312)\n",
      "(0.7964939024390244, 0.9321646341463414, 1312)\n"
     ]
    }
   ],
   "source": [
    "print(compute_pass_at_k(advantages['train'][None]['qwen2-7b_step_30']))\n",
    "print(compute_pass_at_k(advantages['train'][4]['qwen2-7b_step_30']))\n",
    "\n",
    "print(compute_pass_at_k(advantages['val'][None]['qwen2-7b_step_30']))\n",
    "print(compute_pass_at_k(advantages['val'][4]['qwen2-7b_step_30']))"
   ]
  },
  {
   "cell_type": "code",
   "execution_count": null,
   "metadata": {},
   "outputs": [],
   "source": []
  },
  {
   "cell_type": "code",
   "execution_count": 34,
   "metadata": {},
   "outputs": [
    {
     "name": "stdout",
     "output_type": "stream",
     "text": [
      "(0.26088169642857145, 0.6788504464285714, 7168)\n",
      "(0.9508928571428571, 0.9898158482142857, 7168)\n",
      "(0.24390243902439024, 0.625, 1312)\n",
      "(0.854420731707317, 0.9565548780487805, 1312)\n"
     ]
    }
   ],
   "source": [
    "print(compute_pass_at_k(advantages['train'][None]['qqwen2-7b_step_1']))\n",
    "print(compute_pass_at_k(advantages['train'][1]['qqwen2-7b_step_1']))\n",
    "\n",
    "print(compute_pass_at_k(advantages['val'][None]['qqwen2-7b_step_1']))\n",
    "print(compute_pass_at_k(advantages['val'][1]['qqwen2-7b_step_1']))\n"
   ]
  },
  {
   "cell_type": "code",
   "execution_count": 35,
   "metadata": {},
   "outputs": [
    {
     "name": "stdout",
     "output_type": "stream",
     "text": [
      "(0.39369419642857145, 0.8826729910714286, 7168)\n",
      "(0.9592633928571429, 0.9920479910714286, 7168)\n",
      "(0.3513719512195122, 0.8041158536585366, 1312)\n",
      "(0.8445121951219512, 0.9542682926829268, 1312)\n"
     ]
    }
   ],
   "source": [
    "print(compute_pass_at_k(advantages['train'][None]['qqwen2-7b_step_3']))\n",
    "print(compute_pass_at_k(advantages['train'][1]['qqwen2-7b_step_3']))\n",
    "\n",
    "print(compute_pass_at_k(advantages['val'][None]['qqwen2-7b_step_3']))\n",
    "print(compute_pass_at_k(advantages['val'][1]['qqwen2-7b_step_3']))"
   ]
  },
  {
   "cell_type": "code",
   "execution_count": null,
   "metadata": {},
   "outputs": [],
   "source": []
  }
 ],
 "metadata": {
  "kernelspec": {
   "display_name": ".venv",
   "language": "python",
   "name": ".venv"
  },
  "language_info": {
   "codemirror_mode": {
    "name": "ipython",
    "version": 3
   },
   "file_extension": ".py",
   "mimetype": "text/x-python",
   "name": "python",
   "nbconvert_exporter": "python",
   "pygments_lexer": "ipython3",
   "version": "3.10.12"
  }
 },
 "nbformat": 4,
 "nbformat_minor": 2
}
