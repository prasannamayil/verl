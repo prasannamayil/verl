{
 "cells": [
  {
   "cell_type": "code",
   "execution_count": 1,
   "metadata": {},
   "outputs": [],
   "source": [
    "import pandas as pd"
   ]
  },
  {
   "cell_type": "code",
   "execution_count": 70,
   "metadata": {},
   "outputs": [],
   "source": [
    "# Path to the parquet file\n",
    "parquet_file_path = '/fast/pmayilvahanan/datasets/gsm8k/train.parquet'\n",
    "\n",
    "# Load the parquet file into a pandas DataFrame\n",
    "df_gsm8k = pd.read_parquet(parquet_file_path)\n",
    "\n",
    "df_math = pd.read_parquet('/fast/pmayilvahanan/datasets/math/train.parquet')\n",
    "\n",
    "\n",
    "df_curated = pd.read_parquet('/fast/pmayilvahanan/datasets/curated_thoughts_0_3/train-00000-of-00010.parquet')\n",
    "\n",
    "df_curated_final = pd.read_parquet('/fast/pmayilvahanan/datasets/curated_thoughts/train.parquet')\n",
    "\n",
    "\n",
    "\n"
   ]
  },
  {
   "cell_type": "code",
   "execution_count": 111,
   "metadata": {},
   "outputs": [],
   "source": [
    "df_deepscaler = pd.read_parquet('/fast/pmayilvahanan/datasets/deepscaler/train.parquet')"
   ]
  },
  {
   "cell_type": "code",
   "execution_count": 116,
   "metadata": {},
   "outputs": [
    {
     "data": {
      "text/html": [
       "<div>\n",
       "<style scoped>\n",
       "    .dataframe tbody tr th:only-of-type {\n",
       "        vertical-align: middle;\n",
       "    }\n",
       "\n",
       "    .dataframe tbody tr th {\n",
       "        vertical-align: top;\n",
       "    }\n",
       "\n",
       "    .dataframe thead th {\n",
       "        text-align: right;\n",
       "    }\n",
       "</style>\n",
       "<table border=\"1\" class=\"dataframe\">\n",
       "  <thead>\n",
       "    <tr style=\"text-align: right;\">\n",
       "      <th></th>\n",
       "      <th>data_source</th>\n",
       "      <th>prompt</th>\n",
       "      <th>ability</th>\n",
       "      <th>reward_model</th>\n",
       "      <th>extra_info</th>\n",
       "    </tr>\n",
       "  </thead>\n",
       "  <tbody>\n",
       "    <tr>\n",
       "      <th>0</th>\n",
       "      <td>agentica-org/DeepScaleR-Preview-Dataset</td>\n",
       "      <td>[{'content': 'Given that 800 students were sur...</td>\n",
       "      <td>math</td>\n",
       "      <td>{'ground_truth': '\\frac{4}{3}', 'style': 'rule'}</td>\n",
       "      <td>{'full_solution': '', 'index': 0, 'split': 'tr...</td>\n",
       "    </tr>\n",
       "    <tr>\n",
       "      <th>1</th>\n",
       "      <td>agentica-org/DeepScaleR-Preview-Dataset</td>\n",
       "      <td>[{'content': 'Two circles with centers $A$ and...</td>\n",
       "      <td>math</td>\n",
       "      <td>{'ground_truth': '\\frac{15 \\sqrt{2}}{8}', 'sty...</td>\n",
       "      <td>{'full_solution': '', 'index': 1, 'split': 'tr...</td>\n",
       "    </tr>\n",
       "    <tr>\n",
       "      <th>2</th>\n",
       "      <td>agentica-org/DeepScaleR-Preview-Dataset</td>\n",
       "      <td>[{'content': 'In our province, the new college...</td>\n",
       "      <td>math</td>\n",
       "      <td>{'ground_truth': '92', 'style': 'rule'}</td>\n",
       "      <td>{'full_solution': '', 'index': 2, 'split': 'tr...</td>\n",
       "    </tr>\n",
       "    <tr>\n",
       "      <th>3</th>\n",
       "      <td>agentica-org/DeepScaleR-Preview-Dataset</td>\n",
       "      <td>[{'content': 'The number \\( N \\) has the small...</td>\n",
       "      <td>math</td>\n",
       "      <td>{'ground_truth': '260', 'style': 'rule'}</td>\n",
       "      <td>{'full_solution': '', 'index': 3, 'split': 'tr...</td>\n",
       "    </tr>\n",
       "    <tr>\n",
       "      <th>4</th>\n",
       "      <td>agentica-org/DeepScaleR-Preview-Dataset</td>\n",
       "      <td>[{'content': 'A certain agency has 18 elderly,...</td>\n",
       "      <td>math</td>\n",
       "      <td>{'ground_truth': 'X = 6', 'style': 'rule'}</td>\n",
       "      <td>{'full_solution': '', 'index': 4, 'split': 'tr...</td>\n",
       "    </tr>\n",
       "    <tr>\n",
       "      <th>...</th>\n",
       "      <td>...</td>\n",
       "      <td>...</td>\n",
       "      <td>...</td>\n",
       "      <td>...</td>\n",
       "      <td>...</td>\n",
       "    </tr>\n",
       "    <tr>\n",
       "      <th>36279</th>\n",
       "      <td>agentica-org/DeepScaleR-Preview-Dataset</td>\n",
       "      <td>[{'content': 'On the refrigerator, MATHEMATICS...</td>\n",
       "      <td>math</td>\n",
       "      <td>{'ground_truth': '72', 'style': 'rule'}</td>\n",
       "      <td>{'full_solution': '', 'index': 36279, 'split':...</td>\n",
       "    </tr>\n",
       "    <tr>\n",
       "      <th>36280</th>\n",
       "      <td>agentica-org/DeepScaleR-Preview-Dataset</td>\n",
       "      <td>[{'content': 'Suppose that $m$ and $n$ are int...</td>\n",
       "      <td>math</td>\n",
       "      <td>{'ground_truth': '29', 'style': 'rule'}</td>\n",
       "      <td>{'full_solution': 'If $n$ is even, $n+1 \\mid n...</td>\n",
       "    </tr>\n",
       "    <tr>\n",
       "      <th>36281</th>\n",
       "      <td>agentica-org/DeepScaleR-Preview-Dataset</td>\n",
       "      <td>[{'content': 'Cube $A B C D E F G H$ has edge ...</td>\n",
       "      <td>math</td>\n",
       "      <td>{'ground_truth': '28', 'style': 'rule'}</td>\n",
       "      <td>{'full_solution': 'Triangular-based pyramid $A...</td>\n",
       "    </tr>\n",
       "    <tr>\n",
       "      <th>36282</th>\n",
       "      <td>agentica-org/DeepScaleR-Preview-Dataset</td>\n",
       "      <td>[{'content': 'Given the function $f(x)=kx+b$, ...</td>\n",
       "      <td>math</td>\n",
       "      <td>{'ground_truth': '-3', 'style': 'rule'}</td>\n",
       "      <td>{'full_solution': '', 'index': 36282, 'split':...</td>\n",
       "    </tr>\n",
       "    <tr>\n",
       "      <th>36283</th>\n",
       "      <td>agentica-org/DeepScaleR-Preview-Dataset</td>\n",
       "      <td>[{'content': 'The hares are cutting the log ag...</td>\n",
       "      <td>math</td>\n",
       "      <td>{'ground_truth': '11', 'style': 'rule'}</td>\n",
       "      <td>{'full_solution': '', 'index': 36283, 'split':...</td>\n",
       "    </tr>\n",
       "  </tbody>\n",
       "</table>\n",
       "<p>36284 rows × 5 columns</p>\n",
       "</div>"
      ],
      "text/plain": [
       "                                   data_source  \\\n",
       "0      agentica-org/DeepScaleR-Preview-Dataset   \n",
       "1      agentica-org/DeepScaleR-Preview-Dataset   \n",
       "2      agentica-org/DeepScaleR-Preview-Dataset   \n",
       "3      agentica-org/DeepScaleR-Preview-Dataset   \n",
       "4      agentica-org/DeepScaleR-Preview-Dataset   \n",
       "...                                        ...   \n",
       "36279  agentica-org/DeepScaleR-Preview-Dataset   \n",
       "36280  agentica-org/DeepScaleR-Preview-Dataset   \n",
       "36281  agentica-org/DeepScaleR-Preview-Dataset   \n",
       "36282  agentica-org/DeepScaleR-Preview-Dataset   \n",
       "36283  agentica-org/DeepScaleR-Preview-Dataset   \n",
       "\n",
       "                                                  prompt ability  \\\n",
       "0      [{'content': 'Given that 800 students were sur...    math   \n",
       "1      [{'content': 'Two circles with centers $A$ and...    math   \n",
       "2      [{'content': 'In our province, the new college...    math   \n",
       "3      [{'content': 'The number \\( N \\) has the small...    math   \n",
       "4      [{'content': 'A certain agency has 18 elderly,...    math   \n",
       "...                                                  ...     ...   \n",
       "36279  [{'content': 'On the refrigerator, MATHEMATICS...    math   \n",
       "36280  [{'content': 'Suppose that $m$ and $n$ are int...    math   \n",
       "36281  [{'content': 'Cube $A B C D E F G H$ has edge ...    math   \n",
       "36282  [{'content': 'Given the function $f(x)=kx+b$, ...    math   \n",
       "36283  [{'content': 'The hares are cutting the log ag...    math   \n",
       "\n",
       "                                            reward_model  \\\n",
       "0       {'ground_truth': '\\frac{4}{3}', 'style': 'rule'}   \n",
       "1      {'ground_truth': '\\frac{15 \\sqrt{2}}{8}', 'sty...   \n",
       "2                {'ground_truth': '92', 'style': 'rule'}   \n",
       "3               {'ground_truth': '260', 'style': 'rule'}   \n",
       "4             {'ground_truth': 'X = 6', 'style': 'rule'}   \n",
       "...                                                  ...   \n",
       "36279            {'ground_truth': '72', 'style': 'rule'}   \n",
       "36280            {'ground_truth': '29', 'style': 'rule'}   \n",
       "36281            {'ground_truth': '28', 'style': 'rule'}   \n",
       "36282            {'ground_truth': '-3', 'style': 'rule'}   \n",
       "36283            {'ground_truth': '11', 'style': 'rule'}   \n",
       "\n",
       "                                              extra_info  \n",
       "0      {'full_solution': '', 'index': 0, 'split': 'tr...  \n",
       "1      {'full_solution': '', 'index': 1, 'split': 'tr...  \n",
       "2      {'full_solution': '', 'index': 2, 'split': 'tr...  \n",
       "3      {'full_solution': '', 'index': 3, 'split': 'tr...  \n",
       "4      {'full_solution': '', 'index': 4, 'split': 'tr...  \n",
       "...                                                  ...  \n",
       "36279  {'full_solution': '', 'index': 36279, 'split':...  \n",
       "36280  {'full_solution': 'If $n$ is even, $n+1 \\mid n...  \n",
       "36281  {'full_solution': 'Triangular-based pyramid $A...  \n",
       "36282  {'full_solution': '', 'index': 36282, 'split':...  \n",
       "36283  {'full_solution': '', 'index': 36283, 'split':...  \n",
       "\n",
       "[36284 rows x 5 columns]"
      ]
     },
     "execution_count": 116,
     "metadata": {},
     "output_type": "execute_result"
    }
   ],
   "source": [
    "df_deepscaler"
   ]
  },
  {
   "cell_type": "code",
   "execution_count": 97,
   "metadata": {},
   "outputs": [
    {
     "data": {
      "text/html": [
       "<div>\n",
       "<style scoped>\n",
       "    .dataframe tbody tr th:only-of-type {\n",
       "        vertical-align: middle;\n",
       "    }\n",
       "\n",
       "    .dataframe tbody tr th {\n",
       "        vertical-align: top;\n",
       "    }\n",
       "\n",
       "    .dataframe thead th {\n",
       "        text-align: right;\n",
       "    }\n",
       "</style>\n",
       "<table border=\"1\" class=\"dataframe\">\n",
       "  <thead>\n",
       "    <tr style=\"text-align: right;\">\n",
       "      <th></th>\n",
       "      <th>solution</th>\n",
       "      <th>is_reasoning_complete</th>\n",
       "      <th>generations</th>\n",
       "      <th>correctness_math_verify</th>\n",
       "      <th>correctness_llama</th>\n",
       "      <th>finish_reasons</th>\n",
       "      <th>correctness_count</th>\n",
       "      <th>messages</th>\n",
       "      <th>type</th>\n",
       "      <th>data_source</th>\n",
       "      <th>prompt</th>\n",
       "      <th>ability</th>\n",
       "      <th>reward_model</th>\n",
       "      <th>extra_info</th>\n",
       "    </tr>\n",
       "  </thead>\n",
       "  <tbody>\n",
       "    <tr>\n",
       "      <th>0</th>\n",
       "      <td>## Solution.\\n\\nLet $t$ be the time required f...</td>\n",
       "      <td>[True, True]</td>\n",
       "      <td>[&lt;think&gt;\\nOkay, so I need to find the speed of...</td>\n",
       "      <td>[True, False]</td>\n",
       "      <td>None</td>\n",
       "      <td>None</td>\n",
       "      <td>1</td>\n",
       "      <td>[{'from': 'user', 'value': '## Task B-1.3.\n",
       "\n",
       "A ...</td>\n",
       "      <td>Algebra</td>\n",
       "      <td>bethgelab/CuratedThoughts</td>\n",
       "      <td>[{'content': '## Task B-1.3.\n",
       "\n",
       "A ship traveling...</td>\n",
       "      <td>math</td>\n",
       "      <td>{'ground_truth': 'v_{R}=4\\mathrm{~}/\\mathrm{},...</td>\n",
       "      <td>{'index': 0, 'question_type': 'math-word-probl...</td>\n",
       "    </tr>\n",
       "    <tr>\n",
       "      <th>1</th>\n",
       "      <td>3. (6 points) A construction company builds a ...</td>\n",
       "      <td>[True, True]</td>\n",
       "      <td>[&lt;think&gt;\\nOkay, let me try to figure out this ...</td>\n",
       "      <td>[True, True]</td>\n",
       "      <td>None</td>\n",
       "      <td>None</td>\n",
       "      <td>2</td>\n",
       "      <td>[{'from': 'user', 'value': '3. (6 points) A co...</td>\n",
       "      <td>Algebra</td>\n",
       "      <td>bethgelab/CuratedThoughts</td>\n",
       "      <td>[{'content': '3. (6 points) A construction com...</td>\n",
       "      <td>math</td>\n",
       "      <td>{'ground_truth': '180', 'style': 'rule'}</td>\n",
       "      <td>{'index': 1, 'question_type': 'math-word-probl...</td>\n",
       "    </tr>\n",
       "    <tr>\n",
       "      <th>2</th>\n",
       "      <td>$D$</td>\n",
       "      <td>[True, True]</td>\n",
       "      <td>[&lt;think&gt;\\nOkay, so I have this problem here wh...</td>\n",
       "      <td>[True, True]</td>\n",
       "      <td>None</td>\n",
       "      <td>None</td>\n",
       "      <td>2</td>\n",
       "      <td>[{'from': 'user', 'value': '4. Given the three...</td>\n",
       "      <td>Geometry</td>\n",
       "      <td>bethgelab/CuratedThoughts</td>\n",
       "      <td>[{'content': '4. Given the three sides of an o...</td>\n",
       "      <td>math</td>\n",
       "      <td>{'ground_truth': 'D', 'style': 'rule'}</td>\n",
       "      <td>{'index': 2, 'question_type': 'MCQ', 'source':...</td>\n",
       "    </tr>\n",
       "    <tr>\n",
       "      <th>3</th>\n",
       "      <td>1. $\\frac{8 x+13}{3}=\\frac{19-12 x}{2}-\\left(1...</td>\n",
       "      <td>[True, True]</td>\n",
       "      <td>[&lt;think&gt;\\nOkay, so I need to solve this equati...</td>\n",
       "      <td>[True, True]</td>\n",
       "      <td>None</td>\n",
       "      <td>None</td>\n",
       "      <td>2</td>\n",
       "      <td>[{'from': 'user', 'value': '1. Solve the equat...</td>\n",
       "      <td>Algebra</td>\n",
       "      <td>bethgelab/CuratedThoughts</td>\n",
       "      <td>[{'content': '1. Solve the equation: $\\frac{8 ...</td>\n",
       "      <td>math</td>\n",
       "      <td>{'ground_truth': '\\frac{1}{4}', 'style': 'rule'}</td>\n",
       "      <td>{'index': 3, 'question_type': 'math-word-probl...</td>\n",
       "    </tr>\n",
       "    <tr>\n",
       "      <th>4</th>\n",
       "      <td>Let the lengths of the legs be $a$ and $b$, an...</td>\n",
       "      <td>[True, True]</td>\n",
       "      <td>[&lt;think&gt;\\nOkay, so I need to figure out the po...</td>\n",
       "      <td>[True, True]</td>\n",
       "      <td>None</td>\n",
       "      <td>None</td>\n",
       "      <td>2</td>\n",
       "      <td>[{'from': 'user', 'value': 'A right-angled tri...</td>\n",
       "      <td>Geometry</td>\n",
       "      <td>bethgelab/CuratedThoughts</td>\n",
       "      <td>[{'content': 'A right-angled triangle has side...</td>\n",
       "      <td>math</td>\n",
       "      <td>{'ground_truth': '0', 'style': 'rule'}</td>\n",
       "      <td>{'index': 4, 'question_type': 'math-word-probl...</td>\n",
       "    </tr>\n",
       "    <tr>\n",
       "      <th>...</th>\n",
       "      <td>...</td>\n",
       "      <td>...</td>\n",
       "      <td>...</td>\n",
       "      <td>...</td>\n",
       "      <td>...</td>\n",
       "      <td>...</td>\n",
       "      <td>...</td>\n",
       "      <td>...</td>\n",
       "      <td>...</td>\n",
       "      <td>...</td>\n",
       "      <td>...</td>\n",
       "      <td>...</td>\n",
       "      <td>...</td>\n",
       "      <td>...</td>\n",
       "    </tr>\n",
       "    <tr>\n",
       "      <th>88657</th>\n",
       "      <td>6) The answer is $(\\mathbf{D})$.\\n\\nIndeed, $\\...</td>\n",
       "      <td>[True, True]</td>\n",
       "      <td>[&lt;think&gt;\\nOkay, let's see. The problem is aski...</td>\n",
       "      <td>[False, False]</td>\n",
       "      <td>[True, True]</td>\n",
       "      <td>None</td>\n",
       "      <td>2</td>\n",
       "      <td>[{'from': 'user', 'value': '6) What is the val...</td>\n",
       "      <td>Algebra</td>\n",
       "      <td>bethgelab/CuratedThoughts</td>\n",
       "      <td>[{'content': '6) What is the value of the squa...</td>\n",
       "      <td>math</td>\n",
       "      <td>{'ground_truth': '8^{8}', 'style': 'rule'}</td>\n",
       "      <td>{'index': 88657, 'question_type': 'MCQ', 'sour...</td>\n",
       "    </tr>\n",
       "    <tr>\n",
       "      <th>88658</th>\n",
       "      <td>Solution. We will use the formulas for the squ...</td>\n",
       "      <td>[True, True]</td>\n",
       "      <td>[&lt;think&gt;\\nOkay, so I have this expression to s...</td>\n",
       "      <td>[True, True]</td>\n",
       "      <td>None</td>\n",
       "      <td>[stop, stop]</td>\n",
       "      <td>2</td>\n",
       "      <td>[{'from': 'user', 'value': '385. $(\\tan \\alpha...</td>\n",
       "      <td>Algebra</td>\n",
       "      <td>bethgelab/CuratedThoughts</td>\n",
       "      <td>[{'content': '385. $(\\tan \\alpha+\\cot \\alpha)^...</td>\n",
       "      <td>math</td>\n",
       "      <td>{'ground_truth': '4', 'style': 'rule'}</td>\n",
       "      <td>{'index': 88658, 'question_type': 'math-word-p...</td>\n",
       "    </tr>\n",
       "    <tr>\n",
       "      <th>88659</th>\n",
       "      <td>Calculate the number of pairs of connected sub...</td>\n",
       "      <td>[True]</td>\n",
       "      <td>[&lt;think&gt;\\nOkay, let's see. The problem is abou...</td>\n",
       "      <td>[False]</td>\n",
       "      <td>[True]</td>\n",
       "      <td>None</td>\n",
       "      <td>1</td>\n",
       "      <td>[{'from': 'user', 'value': 'In a communication...</td>\n",
       "      <td>Combinatorics</td>\n",
       "      <td>bethgelab/CuratedThoughts</td>\n",
       "      <td>[{'content': 'In a communication system consis...</td>\n",
       "      <td>math</td>\n",
       "      <td>{'ground_truth': 'n=2tfor=0,1,\\ldots,1000', 's...</td>\n",
       "      <td>{'index': 88659, 'question_type': 'math-word-p...</td>\n",
       "    </tr>\n",
       "    <tr>\n",
       "      <th>88660</th>\n",
       "      <td>1. We need to determine the number of integers...</td>\n",
       "      <td>[True, True]</td>\n",
       "      <td>[&lt;think&gt;\\nOkay, so I need to find the differen...</td>\n",
       "      <td>[True, True]</td>\n",
       "      <td>None</td>\n",
       "      <td>None</td>\n",
       "      <td>2</td>\n",
       "      <td>[{'from': 'user', 'value': 'Let $n$ be a posit...</td>\n",
       "      <td>Number Theory</td>\n",
       "      <td>bethgelab/CuratedThoughts</td>\n",
       "      <td>[{'content': 'Let $n$ be a positive integer su...</td>\n",
       "      <td>math</td>\n",
       "      <td>{'ground_truth': '22', 'style': 'rule'}</td>\n",
       "      <td>{'index': 88660, 'question_type': 'math-word-p...</td>\n",
       "    </tr>\n",
       "    <tr>\n",
       "      <th>88661</th>\n",
       "      <td>10. Answer. 8\\nSolution. We consider the polyn...</td>\n",
       "      <td>[True, True]</td>\n",
       "      <td>[&lt;think&gt;\\nOkay, so I need to find the maximum ...</td>\n",
       "      <td>[True, True]</td>\n",
       "      <td>None</td>\n",
       "      <td>None</td>\n",
       "      <td>2</td>\n",
       "      <td>[{'from': 'user', 'value': '10. Given that\n",
       "$$\n",
       "...</td>\n",
       "      <td>Algebra</td>\n",
       "      <td>bethgelab/CuratedThoughts</td>\n",
       "      <td>[{'content': '10. Given that\n",
       "$$\n",
       "\\begin{aligned...</td>\n",
       "      <td>math</td>\n",
       "      <td>{'ground_truth': '8', 'style': 'rule'}</td>\n",
       "      <td>{'index': 88661, 'question_type': 'math-word-p...</td>\n",
       "    </tr>\n",
       "  </tbody>\n",
       "</table>\n",
       "<p>88662 rows × 14 columns</p>\n",
       "</div>"
      ],
      "text/plain": [
       "                                                solution  \\\n",
       "0      ## Solution.\\n\\nLet $t$ be the time required f...   \n",
       "1      3. (6 points) A construction company builds a ...   \n",
       "2                                                    $D$   \n",
       "3      1. $\\frac{8 x+13}{3}=\\frac{19-12 x}{2}-\\left(1...   \n",
       "4      Let the lengths of the legs be $a$ and $b$, an...   \n",
       "...                                                  ...   \n",
       "88657  6) The answer is $(\\mathbf{D})$.\\n\\nIndeed, $\\...   \n",
       "88658  Solution. We will use the formulas for the squ...   \n",
       "88659  Calculate the number of pairs of connected sub...   \n",
       "88660  1. We need to determine the number of integers...   \n",
       "88661  10. Answer. 8\\nSolution. We consider the polyn...   \n",
       "\n",
       "      is_reasoning_complete  \\\n",
       "0              [True, True]   \n",
       "1              [True, True]   \n",
       "2              [True, True]   \n",
       "3              [True, True]   \n",
       "4              [True, True]   \n",
       "...                     ...   \n",
       "88657          [True, True]   \n",
       "88658          [True, True]   \n",
       "88659                [True]   \n",
       "88660          [True, True]   \n",
       "88661          [True, True]   \n",
       "\n",
       "                                             generations  \\\n",
       "0      [<think>\\nOkay, so I need to find the speed of...   \n",
       "1      [<think>\\nOkay, let me try to figure out this ...   \n",
       "2      [<think>\\nOkay, so I have this problem here wh...   \n",
       "3      [<think>\\nOkay, so I need to solve this equati...   \n",
       "4      [<think>\\nOkay, so I need to figure out the po...   \n",
       "...                                                  ...   \n",
       "88657  [<think>\\nOkay, let's see. The problem is aski...   \n",
       "88658  [<think>\\nOkay, so I have this expression to s...   \n",
       "88659  [<think>\\nOkay, let's see. The problem is abou...   \n",
       "88660  [<think>\\nOkay, so I need to find the differen...   \n",
       "88661  [<think>\\nOkay, so I need to find the maximum ...   \n",
       "\n",
       "      correctness_math_verify correctness_llama finish_reasons  \\\n",
       "0               [True, False]              None           None   \n",
       "1                [True, True]              None           None   \n",
       "2                [True, True]              None           None   \n",
       "3                [True, True]              None           None   \n",
       "4                [True, True]              None           None   \n",
       "...                       ...               ...            ...   \n",
       "88657          [False, False]      [True, True]           None   \n",
       "88658            [True, True]              None   [stop, stop]   \n",
       "88659                 [False]            [True]           None   \n",
       "88660            [True, True]              None           None   \n",
       "88661            [True, True]              None           None   \n",
       "\n",
       "       correctness_count                                           messages  \\\n",
       "0                      1  [{'from': 'user', 'value': '## Task B-1.3.\n",
       "\n",
       "A ...   \n",
       "1                      2  [{'from': 'user', 'value': '3. (6 points) A co...   \n",
       "2                      2  [{'from': 'user', 'value': '4. Given the three...   \n",
       "3                      2  [{'from': 'user', 'value': '1. Solve the equat...   \n",
       "4                      2  [{'from': 'user', 'value': 'A right-angled tri...   \n",
       "...                  ...                                                ...   \n",
       "88657                  2  [{'from': 'user', 'value': '6) What is the val...   \n",
       "88658                  2  [{'from': 'user', 'value': '385. $(\\tan \\alpha...   \n",
       "88659                  1  [{'from': 'user', 'value': 'In a communication...   \n",
       "88660                  2  [{'from': 'user', 'value': 'Let $n$ be a posit...   \n",
       "88661                  2  [{'from': 'user', 'value': '10. Given that\n",
       "$$\n",
       "...   \n",
       "\n",
       "                type                data_source  \\\n",
       "0            Algebra  bethgelab/CuratedThoughts   \n",
       "1            Algebra  bethgelab/CuratedThoughts   \n",
       "2           Geometry  bethgelab/CuratedThoughts   \n",
       "3            Algebra  bethgelab/CuratedThoughts   \n",
       "4           Geometry  bethgelab/CuratedThoughts   \n",
       "...              ...                        ...   \n",
       "88657        Algebra  bethgelab/CuratedThoughts   \n",
       "88658        Algebra  bethgelab/CuratedThoughts   \n",
       "88659  Combinatorics  bethgelab/CuratedThoughts   \n",
       "88660  Number Theory  bethgelab/CuratedThoughts   \n",
       "88661        Algebra  bethgelab/CuratedThoughts   \n",
       "\n",
       "                                                  prompt ability  \\\n",
       "0      [{'content': '## Task B-1.3.\n",
       "\n",
       "A ship traveling...    math   \n",
       "1      [{'content': '3. (6 points) A construction com...    math   \n",
       "2      [{'content': '4. Given the three sides of an o...    math   \n",
       "3      [{'content': '1. Solve the equation: $\\frac{8 ...    math   \n",
       "4      [{'content': 'A right-angled triangle has side...    math   \n",
       "...                                                  ...     ...   \n",
       "88657  [{'content': '6) What is the value of the squa...    math   \n",
       "88658  [{'content': '385. $(\\tan \\alpha+\\cot \\alpha)^...    math   \n",
       "88659  [{'content': 'In a communication system consis...    math   \n",
       "88660  [{'content': 'Let $n$ be a positive integer su...    math   \n",
       "88661  [{'content': '10. Given that\n",
       "$$\n",
       "\\begin{aligned...    math   \n",
       "\n",
       "                                            reward_model  \\\n",
       "0      {'ground_truth': 'v_{R}=4\\mathrm{~}/\\mathrm{},...   \n",
       "1               {'ground_truth': '180', 'style': 'rule'}   \n",
       "2                 {'ground_truth': 'D', 'style': 'rule'}   \n",
       "3       {'ground_truth': '\\frac{1}{4}', 'style': 'rule'}   \n",
       "4                 {'ground_truth': '0', 'style': 'rule'}   \n",
       "...                                                  ...   \n",
       "88657         {'ground_truth': '8^{8}', 'style': 'rule'}   \n",
       "88658             {'ground_truth': '4', 'style': 'rule'}   \n",
       "88659  {'ground_truth': 'n=2tfor=0,1,\\ldots,1000', 's...   \n",
       "88660            {'ground_truth': '22', 'style': 'rule'}   \n",
       "88661             {'ground_truth': '8', 'style': 'rule'}   \n",
       "\n",
       "                                              extra_info  \n",
       "0      {'index': 0, 'question_type': 'math-word-probl...  \n",
       "1      {'index': 1, 'question_type': 'math-word-probl...  \n",
       "2      {'index': 2, 'question_type': 'MCQ', 'source':...  \n",
       "3      {'index': 3, 'question_type': 'math-word-probl...  \n",
       "4      {'index': 4, 'question_type': 'math-word-probl...  \n",
       "...                                                  ...  \n",
       "88657  {'index': 88657, 'question_type': 'MCQ', 'sour...  \n",
       "88658  {'index': 88658, 'question_type': 'math-word-p...  \n",
       "88659  {'index': 88659, 'question_type': 'math-word-p...  \n",
       "88660  {'index': 88660, 'question_type': 'math-word-p...  \n",
       "88661  {'index': 88661, 'question_type': 'math-word-p...  \n",
       "\n",
       "[88662 rows x 14 columns]"
      ]
     },
     "execution_count": 97,
     "metadata": {},
     "output_type": "execute_result"
    }
   ],
   "source": [
    "df_curated_final"
   ]
  },
  {
   "cell_type": "code",
   "execution_count": 88,
   "metadata": {},
   "outputs": [],
   "source": [
    "df_aime = pd.read_parquet('/fast/pmayilvahanan/datasets/aime_2024/test.parquet')\n",
    "df_gpqa = pd.read_parquet('/fast/pmayilvahanan/datasets/gpqa_diamond/test.parquet')"
   ]
  },
  {
   "cell_type": "code",
   "execution_count": 96,
   "metadata": {},
   "outputs": [
    {
     "data": {
      "text/plain": [
       "array([{'content': \"Every morning Aya goes for a $9$-kilometer-long walk and stops at a coffee shop afterwards. When she walks at a constant speed of $s$ kilometers per hour, the walk takes her 4 hours, including $t$ minutes spent in the coffee shop. When she walks $s+2$ kilometers per hour, the walk takes her 2 hours and 24 minutes, including $t$ minutes spent in the coffee shop. Suppose Aya walks at $s+\\\\frac{1}{2}$ kilometers per hour. Find the number of minutes the walk takes her, including the $t$ minutes spent in the coffee shop. Let's think step by step and output the final answer within \\\\boxed{}.\", 'role': 'user'}],\n",
       "      dtype=object)"
      ]
     },
     "execution_count": 96,
     "metadata": {},
     "output_type": "execute_result"
    }
   ],
   "source": [
    "df_aime.iloc[0]['prompt']"
   ]
  },
  {
   "cell_type": "code",
   "execution_count": 92,
   "metadata": {},
   "outputs": [
    {
     "data": {
      "text/plain": [
       "{'ground_truth': '204', 'style': 'rule'}"
      ]
     },
     "execution_count": 92,
     "metadata": {},
     "output_type": "execute_result"
    }
   ],
   "source": [
    "df_aime.iloc[0]['reward_model']"
   ]
  },
  {
   "cell_type": "code",
   "execution_count": 83,
   "metadata": {},
   "outputs": [
    {
     "name": "stdout",
     "output_type": "stream",
     "text": [
      "1673\n",
      "826\n",
      "3\n",
      "495\n",
      "2545\n",
      "1831\n",
      "1116\n",
      "772\n",
      "58\n",
      "404\n",
      "1388\n",
      "554\n",
      "406\n",
      "374\n",
      "544\n",
      "1914\n",
      "1229\n",
      "186\n",
      "19\n",
      "455\n",
      "690\n",
      "20\n",
      "12\n",
      "1981\n",
      "223\n",
      "807\n",
      "825\n",
      "872\n",
      "556\n",
      "571\n",
      "127\n",
      "636\n",
      "287\n",
      "1499\n",
      "652\n",
      "4679\n",
      "19\n",
      "285\n",
      "179\n",
      "299\n",
      "611\n",
      "542\n",
      "315\n",
      "848\n",
      "591\n",
      "1914\n",
      "371\n",
      "1000\n",
      "621\n",
      "516\n",
      "2344\n",
      "899\n",
      "869\n",
      "176\n",
      "596\n",
      "320\n",
      "708\n",
      "219\n",
      "632\n",
      "217\n",
      "1756\n",
      "1231\n",
      "392\n",
      "195\n",
      "842\n",
      "1900\n",
      "1776\n",
      "474\n",
      "1035\n",
      "944\n",
      "2613\n",
      "697\n",
      "1148\n",
      "841\n",
      "2403\n",
      "355\n",
      "841\n",
      "778\n",
      "188\n",
      "219\n",
      "624\n",
      "1232\n",
      "527\n",
      "732\n",
      "2945\n",
      "1481\n",
      "1749\n",
      "452\n",
      "491\n",
      "946\n",
      "146\n",
      "6\n",
      "1126\n",
      "727\n",
      "361\n",
      "907\n",
      "683\n",
      "693\n",
      "1017\n",
      "464\n"
     ]
    }
   ],
   "source": [
    "for i in range(100):\n",
    "    print(len(df_curated_final.iloc[i]['solution']))"
   ]
  },
  {
   "cell_type": "code",
   "execution_count": 77,
   "metadata": {},
   "outputs": [
    {
     "data": {
      "text/plain": [
       "{'ground_truth': '80', 'style': 'rule'}"
      ]
     },
     "execution_count": 77,
     "metadata": {},
     "output_type": "execute_result"
    }
   ],
   "source": [
    "df_curated_final.iloc[100]['reward_model']"
   ]
  },
  {
   "cell_type": "code",
   "execution_count": 67,
   "metadata": {},
   "outputs": [
    {
     "data": {
      "text/plain": [
       "{'answer': 'Natalia sold 48/2 = <<48/2=24>>24 clips in May.\\nNatalia sold 48+24 = <<48+24=72>>72 clips altogether in April and May.\\n#### 72',\n",
       " 'index': 0,\n",
       " 'question': 'Natalia sold clips to 48 of her friends in April, and then she sold half as many clips in May. How many clips did Natalia sell altogether in April and May?',\n",
       " 'split': 'train'}"
      ]
     },
     "execution_count": 67,
     "metadata": {},
     "output_type": "execute_result"
    }
   ],
   "source": [
    "df_gsm8k.iloc[0]['extra_info']"
   ]
  },
  {
   "cell_type": "code",
   "execution_count": 17,
   "metadata": {},
   "outputs": [
    {
     "data": {
      "text/html": [
       "<div>\n",
       "<style scoped>\n",
       "    .dataframe tbody tr th:only-of-type {\n",
       "        vertical-align: middle;\n",
       "    }\n",
       "\n",
       "    .dataframe tbody tr th {\n",
       "        vertical-align: top;\n",
       "    }\n",
       "\n",
       "    .dataframe thead th {\n",
       "        text-align: right;\n",
       "    }\n",
       "</style>\n",
       "<table border=\"1\" class=\"dataframe\">\n",
       "  <thead>\n",
       "    <tr style=\"text-align: right;\">\n",
       "      <th></th>\n",
       "      <th>level</th>\n",
       "      <th>type</th>\n",
       "      <th>data_source</th>\n",
       "      <th>prompt</th>\n",
       "      <th>ability</th>\n",
       "      <th>reward_model</th>\n",
       "      <th>extra_info</th>\n",
       "    </tr>\n",
       "  </thead>\n",
       "  <tbody>\n",
       "    <tr>\n",
       "      <th>0</th>\n",
       "      <td>Level 5</td>\n",
       "      <td>Algebra</td>\n",
       "      <td>DigitalLearningGmbH/MATH-lighteval</td>\n",
       "      <td>[{'content': 'Let \\[f(x) = \\left\\{\n",
       "\\begin{arra...</td>\n",
       "      <td>math</td>\n",
       "      <td>{'ground_truth': '0', 'style': 'rule'}</td>\n",
       "      <td>{'index': 0, 'split': 'train'}</td>\n",
       "    </tr>\n",
       "    <tr>\n",
       "      <th>1</th>\n",
       "      <td>Level 5</td>\n",
       "      <td>Algebra</td>\n",
       "      <td>DigitalLearningGmbH/MATH-lighteval</td>\n",
       "      <td>[{'content': 'A rectangular band formation is ...</td>\n",
       "      <td>math</td>\n",
       "      <td>{'ground_truth': '98', 'style': 'rule'}</td>\n",
       "      <td>{'index': 1, 'split': 'train'}</td>\n",
       "    </tr>\n",
       "    <tr>\n",
       "      <th>2</th>\n",
       "      <td>Level 3</td>\n",
       "      <td>Algebra</td>\n",
       "      <td>DigitalLearningGmbH/MATH-lighteval</td>\n",
       "      <td>[{'content': 'What is the degree of the polyno...</td>\n",
       "      <td>math</td>\n",
       "      <td>{'ground_truth': '4', 'style': 'rule'}</td>\n",
       "      <td>{'index': 2, 'split': 'train'}</td>\n",
       "    </tr>\n",
       "    <tr>\n",
       "      <th>3</th>\n",
       "      <td>Level 3</td>\n",
       "      <td>Algebra</td>\n",
       "      <td>DigitalLearningGmbH/MATH-lighteval</td>\n",
       "      <td>[{'content': 'Evaluate $\\left\\lceil3\\left(6-\\f...</td>\n",
       "      <td>math</td>\n",
       "      <td>{'ground_truth': '17', 'style': 'rule'}</td>\n",
       "      <td>{'index': 3, 'split': 'train'}</td>\n",
       "    </tr>\n",
       "    <tr>\n",
       "      <th>4</th>\n",
       "      <td>Level 3</td>\n",
       "      <td>Algebra</td>\n",
       "      <td>DigitalLearningGmbH/MATH-lighteval</td>\n",
       "      <td>[{'content': 'Sam is hired for a 20-day period...</td>\n",
       "      <td>math</td>\n",
       "      <td>{'ground_truth': '6', 'style': 'rule'}</td>\n",
       "      <td>{'index': 4, 'split': 'train'}</td>\n",
       "    </tr>\n",
       "    <tr>\n",
       "      <th>...</th>\n",
       "      <td>...</td>\n",
       "      <td>...</td>\n",
       "      <td>...</td>\n",
       "      <td>...</td>\n",
       "      <td>...</td>\n",
       "      <td>...</td>\n",
       "      <td>...</td>\n",
       "    </tr>\n",
       "    <tr>\n",
       "      <th>7495</th>\n",
       "      <td>Level 3</td>\n",
       "      <td>Precalculus</td>\n",
       "      <td>DigitalLearningGmbH/MATH-lighteval</td>\n",
       "      <td>[{'content': 'Find the number of real solution...</td>\n",
       "      <td>math</td>\n",
       "      <td>{'ground_truth': '63', 'style': 'rule'}</td>\n",
       "      <td>{'index': 7495, 'split': 'train'}</td>\n",
       "    </tr>\n",
       "    <tr>\n",
       "      <th>7496</th>\n",
       "      <td>Level 2</td>\n",
       "      <td>Precalculus</td>\n",
       "      <td>DigitalLearningGmbH/MATH-lighteval</td>\n",
       "      <td>[{'content': 'Let $A,$ $B,$ $C$ be the angles ...</td>\n",
       "      <td>math</td>\n",
       "      <td>{'ground_truth': '0', 'style': 'rule'}</td>\n",
       "      <td>{'index': 7496, 'split': 'train'}</td>\n",
       "    </tr>\n",
       "    <tr>\n",
       "      <th>7497</th>\n",
       "      <td>Level 2</td>\n",
       "      <td>Precalculus</td>\n",
       "      <td>DigitalLearningGmbH/MATH-lighteval</td>\n",
       "      <td>[{'content': 'Let $G$ be the centroid of trian...</td>\n",
       "      <td>math</td>\n",
       "      <td>{'ground_truth': '3', 'style': 'rule'}</td>\n",
       "      <td>{'index': 7497, 'split': 'train'}</td>\n",
       "    </tr>\n",
       "    <tr>\n",
       "      <th>7498</th>\n",
       "      <td>Level 2</td>\n",
       "      <td>Precalculus</td>\n",
       "      <td>DigitalLearningGmbH/MATH-lighteval</td>\n",
       "      <td>[{'content': 'If angle $A$ lies in the second ...</td>\n",
       "      <td>math</td>\n",
       "      <td>{'ground_truth': '-\\frac{\\sqrt{7}}{4}', 'style...</td>\n",
       "      <td>{'index': 7498, 'split': 'train'}</td>\n",
       "    </tr>\n",
       "    <tr>\n",
       "      <th>7499</th>\n",
       "      <td>Level 2</td>\n",
       "      <td>Precalculus</td>\n",
       "      <td>DigitalLearningGmbH/MATH-lighteval</td>\n",
       "      <td>[{'content': 'The real numbers $a$ and $b$ sat...</td>\n",
       "      <td>math</td>\n",
       "      <td>{'ground_truth': '\\left( \\frac{8}{5}, -\\frac{3...</td>\n",
       "      <td>{'index': 7499, 'split': 'train'}</td>\n",
       "    </tr>\n",
       "  </tbody>\n",
       "</table>\n",
       "<p>7500 rows × 7 columns</p>\n",
       "</div>"
      ],
      "text/plain": [
       "        level         type                         data_source  \\\n",
       "0     Level 5      Algebra  DigitalLearningGmbH/MATH-lighteval   \n",
       "1     Level 5      Algebra  DigitalLearningGmbH/MATH-lighteval   \n",
       "2     Level 3      Algebra  DigitalLearningGmbH/MATH-lighteval   \n",
       "3     Level 3      Algebra  DigitalLearningGmbH/MATH-lighteval   \n",
       "4     Level 3      Algebra  DigitalLearningGmbH/MATH-lighteval   \n",
       "...       ...          ...                                 ...   \n",
       "7495  Level 3  Precalculus  DigitalLearningGmbH/MATH-lighteval   \n",
       "7496  Level 2  Precalculus  DigitalLearningGmbH/MATH-lighteval   \n",
       "7497  Level 2  Precalculus  DigitalLearningGmbH/MATH-lighteval   \n",
       "7498  Level 2  Precalculus  DigitalLearningGmbH/MATH-lighteval   \n",
       "7499  Level 2  Precalculus  DigitalLearningGmbH/MATH-lighteval   \n",
       "\n",
       "                                                 prompt ability  \\\n",
       "0     [{'content': 'Let \\[f(x) = \\left\\{\n",
       "\\begin{arra...    math   \n",
       "1     [{'content': 'A rectangular band formation is ...    math   \n",
       "2     [{'content': 'What is the degree of the polyno...    math   \n",
       "3     [{'content': 'Evaluate $\\left\\lceil3\\left(6-\\f...    math   \n",
       "4     [{'content': 'Sam is hired for a 20-day period...    math   \n",
       "...                                                 ...     ...   \n",
       "7495  [{'content': 'Find the number of real solution...    math   \n",
       "7496  [{'content': 'Let $A,$ $B,$ $C$ be the angles ...    math   \n",
       "7497  [{'content': 'Let $G$ be the centroid of trian...    math   \n",
       "7498  [{'content': 'If angle $A$ lies in the second ...    math   \n",
       "7499  [{'content': 'The real numbers $a$ and $b$ sat...    math   \n",
       "\n",
       "                                           reward_model  \\\n",
       "0                {'ground_truth': '0', 'style': 'rule'}   \n",
       "1               {'ground_truth': '98', 'style': 'rule'}   \n",
       "2                {'ground_truth': '4', 'style': 'rule'}   \n",
       "3               {'ground_truth': '17', 'style': 'rule'}   \n",
       "4                {'ground_truth': '6', 'style': 'rule'}   \n",
       "...                                                 ...   \n",
       "7495            {'ground_truth': '63', 'style': 'rule'}   \n",
       "7496             {'ground_truth': '0', 'style': 'rule'}   \n",
       "7497             {'ground_truth': '3', 'style': 'rule'}   \n",
       "7498  {'ground_truth': '-\\frac{\\sqrt{7}}{4}', 'style...   \n",
       "7499  {'ground_truth': '\\left( \\frac{8}{5}, -\\frac{3...   \n",
       "\n",
       "                             extra_info  \n",
       "0        {'index': 0, 'split': 'train'}  \n",
       "1        {'index': 1, 'split': 'train'}  \n",
       "2        {'index': 2, 'split': 'train'}  \n",
       "3        {'index': 3, 'split': 'train'}  \n",
       "4        {'index': 4, 'split': 'train'}  \n",
       "...                                 ...  \n",
       "7495  {'index': 7495, 'split': 'train'}  \n",
       "7496  {'index': 7496, 'split': 'train'}  \n",
       "7497  {'index': 7497, 'split': 'train'}  \n",
       "7498  {'index': 7498, 'split': 'train'}  \n",
       "7499  {'index': 7499, 'split': 'train'}  \n",
       "\n",
       "[7500 rows x 7 columns]"
      ]
     },
     "execution_count": 17,
     "metadata": {},
     "output_type": "execute_result"
    }
   ],
   "source": [
    "df_math"
   ]
  },
  {
   "cell_type": "code",
   "execution_count": 45,
   "metadata": {},
   "outputs": [
    {
     "data": {
      "application/vnd.jupyter.widget-view+json": {
       "model_id": "95fa788d2b3d48ab994309c1875b88ec",
       "version_major": 2,
       "version_minor": 0
      },
      "text/plain": [
       "README.md:   0%|          | 0.00/8.67k [00:00<?, ?B/s]"
      ]
     },
     "metadata": {},
     "output_type": "display_data"
    },
    {
     "data": {
      "application/vnd.jupyter.widget-view+json": {
       "model_id": "3eacc9c3dfa74c788bfd75a14d2be3fe",
       "version_major": 2,
       "version_minor": 0
      },
      "text/plain": [
       "train-00000-of-00010.parquet:   0%|          | 0.00/199M [00:00<?, ?B/s]"
      ]
     },
     "metadata": {},
     "output_type": "display_data"
    },
    {
     "data": {
      "application/vnd.jupyter.widget-view+json": {
       "model_id": "678233a59d364f88b8f8d9d38a222f3e",
       "version_major": 2,
       "version_minor": 0
      },
      "text/plain": [
       "train-00001-of-00010.parquet:   0%|          | 0.00/199M [00:00<?, ?B/s]"
      ]
     },
     "metadata": {},
     "output_type": "display_data"
    },
    {
     "data": {
      "application/vnd.jupyter.widget-view+json": {
       "model_id": "941c5cf3fbc84256addcefc1342a3b92",
       "version_major": 2,
       "version_minor": 0
      },
      "text/plain": [
       "train-00002-of-00010.parquet:   0%|          | 0.00/199M [00:00<?, ?B/s]"
      ]
     },
     "metadata": {},
     "output_type": "display_data"
    },
    {
     "data": {
      "application/vnd.jupyter.widget-view+json": {
       "model_id": "16f66852972e4264b69240b333e428e7",
       "version_major": 2,
       "version_minor": 0
      },
      "text/plain": [
       "train-00003-of-00010.parquet:   0%|          | 0.00/202M [00:00<?, ?B/s]"
      ]
     },
     "metadata": {},
     "output_type": "display_data"
    },
    {
     "data": {
      "application/vnd.jupyter.widget-view+json": {
       "model_id": "adfb52a0d1174154a0a4db0ba23b0aaf",
       "version_major": 2,
       "version_minor": 0
      },
      "text/plain": [
       "train-00004-of-00010.parquet:   0%|          | 0.00/199M [00:00<?, ?B/s]"
      ]
     },
     "metadata": {},
     "output_type": "display_data"
    },
    {
     "data": {
      "application/vnd.jupyter.widget-view+json": {
       "model_id": "b52769ee13c04251ae12070d4da27693",
       "version_major": 2,
       "version_minor": 0
      },
      "text/plain": [
       "train-00005-of-00010.parquet:   0%|          | 0.00/199M [00:00<?, ?B/s]"
      ]
     },
     "metadata": {},
     "output_type": "display_data"
    },
    {
     "data": {
      "application/vnd.jupyter.widget-view+json": {
       "model_id": "53cfbfbbccc34a70b4cd8e6e61b2aadf",
       "version_major": 2,
       "version_minor": 0
      },
      "text/plain": [
       "train-00006-of-00010.parquet:   0%|          | 0.00/201M [00:00<?, ?B/s]"
      ]
     },
     "metadata": {},
     "output_type": "display_data"
    },
    {
     "data": {
      "application/vnd.jupyter.widget-view+json": {
       "model_id": "59936f561eb2416f8cfb52c1817ee68b",
       "version_major": 2,
       "version_minor": 0
      },
      "text/plain": [
       "train-00007-of-00010.parquet:   0%|          | 0.00/201M [00:00<?, ?B/s]"
      ]
     },
     "metadata": {},
     "output_type": "display_data"
    },
    {
     "data": {
      "application/vnd.jupyter.widget-view+json": {
       "model_id": "0fc7d6776e8c4236bb4ef9dcc82dc7bf",
       "version_major": 2,
       "version_minor": 0
      },
      "text/plain": [
       "train-00008-of-00010.parquet:   0%|          | 0.00/198M [00:00<?, ?B/s]"
      ]
     },
     "metadata": {},
     "output_type": "display_data"
    },
    {
     "data": {
      "application/vnd.jupyter.widget-view+json": {
       "model_id": "35ca5dc569ee4e0eb13395ab71c584e7",
       "version_major": 2,
       "version_minor": 0
      },
      "text/plain": [
       "train-00009-of-00010.parquet:   0%|          | 0.00/200M [00:00<?, ?B/s]"
      ]
     },
     "metadata": {},
     "output_type": "display_data"
    },
    {
     "data": {
      "application/vnd.jupyter.widget-view+json": {
       "model_id": "0de61affc8a64555a3e1b3f1316fb1ef",
       "version_major": 2,
       "version_minor": 0
      },
      "text/plain": [
       "Generating train split:   0%|          | 0/88662 [00:00<?, ? examples/s]"
      ]
     },
     "metadata": {},
     "output_type": "display_data"
    }
   ],
   "source": [
    "from datasets import load_dataset\n",
    "\n",
    "# Login using e.g. `huggingface-cli login` to access this dataset\n",
    "ds = load_dataset(\"bethgelab/CuratedThoughts\", \"OpenR1-Math-220k-default\")"
   ]
  },
  {
   "cell_type": "code",
   "execution_count": 62,
   "metadata": {},
   "outputs": [
    {
     "name": "stdout",
     "output_type": "stream",
     "text": [
      "2\n",
      "8\n",
      "18\n",
      "21\n",
      "22\n",
      "36\n",
      "91\n",
      "113\n",
      "125\n",
      "157\n",
      "225\n",
      "292\n",
      "295\n",
      "345\n",
      "354\n",
      "367\n",
      "370\n",
      "379\n",
      "386\n",
      "391\n",
      "440\n",
      "487\n",
      "513\n",
      "553\n",
      "605\n",
      "620\n",
      "628\n",
      "632\n",
      "653\n",
      "679\n",
      "690\n",
      "698\n",
      "704\n",
      "724\n",
      "730\n",
      "759\n",
      "791\n",
      "793\n",
      "825\n",
      "836\n",
      "841\n",
      "856\n",
      "901\n",
      "920\n",
      "946\n",
      "950\n",
      "965\n",
      "971\n",
      "972\n",
      "974\n",
      "989\n",
      "996\n"
     ]
    }
   ],
   "source": [
    "for i in range(1000):\n",
    "    if len(ds['train'][i]['solution']) < 100:\n",
    "        print(i)"
   ]
  },
  {
   "cell_type": "code",
   "execution_count": 69,
   "metadata": {},
   "outputs": [
    {
     "data": {
      "text/plain": [
       "{'problem': '## Task B-1.3.\\n\\nA ship traveling along a river has covered $24 \\\\mathrm{~km}$ upstream and $28 \\\\mathrm{~km}$ downstream. For this journey, it took half an hour less than for traveling $30 \\\\mathrm{~km}$ upstream and $21 \\\\mathrm{~km}$ downstream, or half an hour more than for traveling $15 \\\\mathrm{~km}$ upstream and $42 \\\\mathrm{~km}$ downstream, assuming that both the ship and the river move uniformly.\\n\\nDetermine the speed of the ship in still water and the speed of the river.',\n",
       " 'solution': '## Solution.\\n\\nLet $t$ be the time required for the boat to travel $24 \\\\mathrm{~km}$ upstream and $28 \\\\mathrm{~km}$ downstream, $v_{R}$ the speed of the river, and $v_{B}$ the speed of the boat. When the boat is traveling upstream, its speed is $v_{B}-v_{R}$, and when it is traveling downstream, its speed is $v_{B}+v_{R}$.\\n\\nSince $t=\\\\frac{s}{v}$, from the given data, we obtain the following system of equations:\\n\\n$\\\\left\\\\{\\\\begin{array}{l}t=\\\\frac{24}{v_{B}-v_{R}}+\\\\frac{28}{v_{B}+v_{R}} \\\\\\\\ t+0.5=\\\\frac{30}{v_{B}-v_{R}}+\\\\frac{21}{v_{B}+v_{R}} \\\\\\\\ t-0.5=\\\\frac{15}{v_{B}-v_{R}}+\\\\frac{42}{v_{B}+v_{R}}\\\\end{array}\\\\right.$\\n\\nBy introducing new variables $x=\\\\frac{3}{v_{B}-v_{R}}, y=\\\\frac{7}{v_{B}+v_{R}}$, the system transforms into:\\n\\n$\\\\left\\\\{\\\\begin{array}{l}t=8 x+4 y \\\\\\\\ t+0.5=10 x+3 y \\\\\\\\ t-0.5=5 x+6 y\\\\end{array}\\\\right.$\\n\\nSubstituting $t$ from the first equation into the remaining two, we get:\\n\\n$\\\\left\\\\{\\\\begin{array}{l}8 x+4 y+0.5=10 x+3 y \\\\\\\\ 8 x+4 y-0.5=5 x+6 y\\\\end{array}\\\\right.$\\n\\n$\\\\left\\\\{\\\\begin{array}{l}2 x-y=0.5 \\\\\\\\ 3 x-2 y=0.5\\\\end{array}\\\\right.$\\n\\nThe solution to the last system is (0.5, 0.5). Then we have:\\n\\n$\\\\frac{3}{v_{B}-v_{R}}=0.5$, hence, $v_{B}-v_{R}=6 \\\\mathrm{~and}$\\n\\n$\\\\frac{7}{v_{B}+v_{R}}=0.5$, hence, $v_{B}+v_{R}=14$.\\n\\nThe speed of the river is $v_{R}=4 \\\\mathrm{~km} / \\\\mathrm{h}$, and the speed of the boat is $v_{B}=10 \\\\mathrm{~km} / \\\\mathrm{h}$.\\n\\n## Note:\\n\\nBy substituting $x=\\\\frac{1}{v_{B}-v_{R}}, y=\\\\frac{1}{v_{B}+v_{R}} \\\\mathrm{~and}$ following the same procedure, the initial system transforms into the system $\\\\left\\\\{\\\\begin{array}{l}6 x-7 y=0.5 \\\\\\\\ 9 x-14 y=0.5\\\\end{array}\\\\right.$\\n\\nThe solution to this system is $\\\\left(\\\\frac{1}{6}, \\\\frac{1}{14}\\\\right)$.',\n",
       " 'answer': 'v_{R}=4\\\\mathrm{~}/\\\\mathrm{},v_{B}=10\\\\mathrm{~}/\\\\mathrm{}',\n",
       " 'problem_type': 'Algebra',\n",
       " 'question_type': 'math-word-problem',\n",
       " 'source': 'olympiads',\n",
       " 'uuid': '586fd646-76d6-5070-8c81-9993ab9d8559',\n",
       " 'is_reasoning_complete': [True, True],\n",
       " 'generations': ['<think>\\nOkay, so I need to find the speed of the ship in still water and the speed of the river. Let me start by recalling that when a ship is moving upstream, its effective speed is the speed of the ship minus the speed of the river. Conversely, when moving downstream, its effective speed is the ship\\'s speed plus the river\\'s speed. \\n\\nLet me denote the speed of the ship in still water as \\\\( v \\\\) (in km/h) and the speed of the river as \\\\( r \\\\) (also in km/h). Then, the upstream speed would be \\\\( v - r \\\\), and the downstream speed would be \\\\( v + r \\\\).\\n\\nThe problem mentions three different journeys:\\n\\n1. 24 km upstream and 28 km downstream, taking half an hour less than the second journey.\\n2. 30 km upstream and 21 km downstream, which takes half an hour more than the first journey.\\n3. 15 km upstream and 42 km downstream, which takes half an hour less than the first journey.\\n\\nWait, actually, the problem states: \"For this journey, it took half an hour less than for traveling 30 km upstream and 21 km downstream, or half an hour more than for traveling 15 km upstream and 42 km downstream...\"\\n\\nHmm, let me parse that again. The first journey (24 km upstream, 28 km downstream) took half an hour less than the journey with 30 km upstream and 21 km downstream. Alternatively, it took half an hour more than the journey with 15 km upstream and 42 km downstream. So, there are two comparisons here:\\n\\n- Time for 24 up + 28 down = Time for 30 up + 21 down - 0.5 hours\\n- Time for 24 up + 28 down = Time for 15 up + 42 down + 0.5 hours\\n\\nTherefore, we can set up two equations based on these time differences.\\n\\nFirst, let me express the time taken for each journey. Time is equal to distance divided by speed. So, for the first journey (24 km up, 28 km down):\\n\\nTime1 = \\\\( \\\\frac{24}{v - r} + \\\\frac{28}{v + r} \\\\)\\n\\nFor the second journey (30 km up, 21 km down):\\n\\nTime2 = \\\\( \\\\frac{30}{v - r} + \\\\frac{21}{v + r} \\\\)\\n\\nAccording to the problem, Time1 = Time2 - 0.5\\n\\nSimilarly, for the third journey (15 km up, 42 km down):\\n\\nTime3 = \\\\( \\\\frac{15}{v - r} + \\\\frac{42}{v + r} \\\\)\\n\\nAnd here, Time1 = Time3 + 0.5\\n\\nSo, we have two equations:\\n\\n1. \\\\( \\\\frac{24}{v - r} + \\\\frac{28}{v + r} = \\\\frac{30}{v - r} + \\\\frac{21}{v + r} - 0.5 \\\\)\\n2. \\\\( \\\\frac{24}{v - r} + \\\\frac{28}{v + r} = \\\\frac{15}{v - r} + \\\\frac{42}{v + r} + 0.5 \\\\)\\n\\nOkay, so now I need to solve these two equations for \\\\( v \\\\) and \\\\( r \\\\).\\n\\nLet me first work on the first equation:\\n\\n\\\\( \\\\frac{24}{v - r} + \\\\frac{28}{v + r} = \\\\frac{30}{v - r} + \\\\frac{21}{v + r} - 0.5 \\\\)\\n\\nLet me subtract \\\\( \\\\frac{24}{v - r} + \\\\frac{28}{v + r} \\\\) from both sides, but maybe it\\'s better to bring all terms to the left side:\\n\\n\\\\( \\\\frac{24}{v - r} + \\\\frac{28}{v + r} - \\\\frac{30}{v - r} - \\\\frac{21}{v + r} + 0.5 = 0 \\\\)\\n\\nSimplify the terms:\\n\\nFor the upstream terms: \\\\( 24 - 30 = -6 \\\\), so \\\\( \\\\frac{-6}{v - r} \\\\)\\n\\nFor the downstream terms: \\\\( 28 - 21 = 7 \\\\), so \\\\( \\\\frac{7}{v + r} \\\\)\\n\\nSo, the equation becomes:\\n\\n\\\\( \\\\frac{-6}{v - r} + \\\\frac{7}{v + r} + 0.5 = 0 \\\\)\\n\\nSimilarly, for the second equation:\\n\\n\\\\( \\\\frac{24}{v - r} + \\\\frac{28}{v + r} - \\\\frac{15}{v - r} - \\\\frac{42}{v + r} - 0.5 = 0 \\\\)\\n\\nSimplify:\\n\\nUpstream terms: \\\\( 24 - 15 = 9 \\\\), so \\\\( \\\\frac{9}{v - r} \\\\)\\n\\nDownstream terms: \\\\( 28 - 42 = -14 \\\\), so \\\\( \\\\frac{-14}{v + r} \\\\)\\n\\nThus:\\n\\n\\\\( \\\\frac{9}{v - r} - \\\\frac{14}{v + r} - 0.5 = 0 \\\\)\\n\\nNow, we have two equations:\\n\\n1. \\\\( -\\\\frac{6}{v - r} + \\\\frac{7}{v + r} + 0.5 = 0 \\\\)\\n2. \\\\( \\\\frac{9}{v - r} - \\\\frac{14}{v + r} - 0.5 = 0 \\\\)\\n\\nLet me denote \\\\( x = \\\\frac{1}{v - r} \\\\) and \\\\( y = \\\\frac{1}{v + r} \\\\). Then, the equations become:\\n\\n1. \\\\( -6x + 7y + 0.5 = 0 \\\\) ⇒ \\\\( -6x + 7y = -0.5 \\\\)\\n2. \\\\( 9x - 14y - 0.5 = 0 \\\\) ⇒ \\\\( 9x - 14y = 0.5 \\\\)\\n\\nNow, we have a system of linear equations:\\n\\nEquation (1): \\\\( -6x + 7y = -0.5 \\\\)\\n\\nEquation (2): \\\\( 9x - 14y = 0.5 \\\\)\\n\\nLet me solve this system using the elimination method. Let\\'s multiply Equation (1) by 2 to make the coefficients of y terms opposites:\\n\\nEquation (1) multiplied by 2: \\\\( -12x + 14y = -1 \\\\)\\n\\nNow, add this to Equation (2):\\n\\n\\\\( (-12x + 14y) + (9x -14y) = -1 + 0.5 \\\\)\\n\\nSimplify:\\n\\n\\\\( -3x = -0.5 \\\\)\\n\\nThus, \\\\( x = (-0.5)/(-3) = 0.5/3 ≈ 0.1667 \\\\)\\n\\nBut exact value is \\\\( x = 1/6 \\\\)\\n\\nNow, substitute \\\\( x = 1/6 \\\\) back into Equation (1):\\n\\n\\\\( -6*(1/6) + 7y = -0.5 \\\\)\\n\\nSimplify:\\n\\n\\\\( -1 + 7y = -0.5 \\\\)\\n\\nAdd 1 to both sides:\\n\\n7y = 0.5\\n\\nThus, \\\\( y = 0.5/7 = 1/14 ≈ 0.0714 \\\\)\\n\\nSo, \\\\( x = 1/6 \\\\) and \\\\( y = 1/14 \\\\)\\n\\nRecall that \\\\( x = \\\\frac{1}{v - r} = 1/6 \\\\) ⇒ \\\\( v - r = 6 \\\\)\\n\\nSimilarly, \\\\( y = \\\\frac{1}{v + r} = 1/14 \\\\) ⇒ \\\\( v + r = 14 \\\\)\\n\\nTherefore, we have two equations:\\n\\n1. \\\\( v - r = 6 \\\\)\\n2. \\\\( v + r = 14 \\\\)\\n\\nAdding these equations:\\n\\n\\\\( (v - r) + (v + r) = 6 + 14 \\\\)\\n\\nSimplify:\\n\\n\\\\( 2v = 20 \\\\) ⇒ \\\\( v = 10 \\\\)\\n\\nSubstituting back into \\\\( v + r = 14 \\\\):\\n\\n\\\\( 10 + r = 14 \\\\) ⇒ \\\\( r = 4 \\\\)\\n\\nSo, the speed of the ship in still water is 10 km/h, and the speed of the river is 4 km/h.\\n\\nLet me verify these results by plugging them back into the original time equations.\\n\\nFirst journey: 24/(10-4) + 28/(10+4) = 24/6 + 28/14 = 4 + 2 = 6 hours.\\n\\nSecond journey: 30/(10-4) + 21/(10+4) = 30/6 + 21/14 = 5 + 1.5 = 6.5 hours. So, 6.5 - 0.5 = 6 hours, which matches the first journey. Good.\\n\\nThird journey: 15/(10-4) + 42/(10+4) = 15/6 + 42/14 = 2.5 + 3 = 5.5 hours. Then, 5.5 + 0.5 = 6 hours, which also matches the first journey. Perfect.\\n\\nTherefore, the solution is correct.\\n\\n**Final Answer**\\nThe speed of the ship in still water is \\\\boxed{10} km/h and the speed of the river is \\\\boxed{4} km/h.\\n</think>\\n\\nLet \\\\( v \\\\) be the speed of the ship in still water (in km/h) and \\\\( r \\\\) be the speed of the river (in km/h). The effective speeds of the ship upstream and downstream are \\\\( v - r \\\\) and \\\\( v + r \\\\), respectively.\\n\\nWe are given three journeys with the following time relationships:\\n1. The journey of 24 km upstream and 28 km downstream takes half an hour less than the journey of 30 km upstream and 21 km downstream.\\n2. The journey of 24 km upstream and 28 km downstream takes half an hour more than the journey of 15 km upstream and 42 km downstream.\\n\\nWe set up the equations for the times taken for each journey:\\n1. For the first journey (24 km upstream, 28 km downstream):\\n   \\\\[\\n   \\\\frac{24}{v - r} + \\\\frac{28}{v + r}\\n   \\\\]\\n2. For the second journey (30 km upstream, 21 km downstream):\\n   \\\\[\\n   \\\\frac{30}{v - r} + \\\\frac{21}{v + r}\\n   \\\\]\\n3. For the third journey (15 km upstream, 42 km downstream):\\n   \\\\[\\n   \\\\frac{15}{v - r} + \\\\frac{42}{v + r}\\n   \\\\]\\n\\nThe time relationships give us the following equations:\\n1. \\\\[\\n   \\\\frac{24}{v - r} + \\\\frac{28}{v + r} = \\\\frac{30}{v - r} + \\\\frac{21}{v + r} - 0.5\\n   \\\\]\\n2. \\\\[\\n   \\\\frac{24}{v - r} + \\\\frac{28}{v + r} = \\\\frac{15}{v - r} + \\\\frac{42}{v + r} + 0.5\\n   \\\\]\\n\\nIntroducing variables \\\\( x = \\\\frac{1}{v - r} \\\\) and \\\\( y = \\\\frac{1}{v + r} \\\\), we transform the equations into:\\n1. \\\\[\\n   -6x + 7y = -0.5\\n   \\\\]\\n2. \\\\[\\n   9x - 14y = 0.5\\n   \\\\]\\n\\nSolving this system of linear equations:\\n1. Multiply the first equation by 2:\\n   \\\\[\\n   -12x + 14y = -1\\n   \\\\]\\n2. Add the modified first equation to the second equation:\\n   \\\\[\\n   -3x = -0.5 \\\\implies x = \\\\frac{1}{6}\\n   \\\\]\\n3. Substitute \\\\( x = \\\\frac{1}{6} \\\\) into the first equation:\\n   \\\\[\\n   -6 \\\\left( \\\\frac{1}{6} \\\\right) + 7y = -0.5 \\\\implies -1 + 7y = -0.5 \\\\implies 7y = 0.5 \\\\implies y = \\\\frac{1}{14}\\n   \\\\]\\n\\nConverting back to \\\\( v \\\\) and \\\\( r \\\\):\\n1. \\\\( v - r = 6 \\\\)\\n2. \\\\( v + r = 14 \\\\)\\n\\nSolving these equations:\\n1. Adding the two equations:\\n   \\\\[\\n   2v = 20 \\\\implies v = 10\\n   \\\\]\\n2. Substituting \\\\( v = 10 \\\\) into \\\\( v + r = 14 \\\\):\\n   \\\\[\\n   10 + r = 14 \\\\implies r = 4\\n   \\\\]\\n\\nThe speed of the ship in still water is \\\\(\\\\boxed{10}\\\\) km/h and the speed of the river is \\\\(\\\\boxed{4}\\\\) km/h.',\n",
       "  \"<think>\\nOkay, so I need to solve this problem about a ship traveling upstream and downstream. The question is asking for the speed of the ship in still water and the speed of the river. Let me think through this step by step.\\n\\nFirst, let me parse the problem again. The ship covers different distances upstream and downstream, and the time taken for these journeys is compared. Specifically, it says that traveling 24 km upstream and 28 km downstream took half an hour less than traveling 30 km upstream and 21 km downstream. Additionally, that same journey (24 km up, 28 km down) took half an hour more than traveling 15 km upstream and 42 km downstream. \\n\\nAll right, so the key here is that the time differences are half an hour in each case. Since the ship and river are moving uniformly, their speeds are constant. Let me denote the speed of the ship in still water as \\\\( v \\\\) (km/h) and the speed of the river as \\\\( r \\\\) (km/h). Then, when the ship is going upstream, its effective speed is \\\\( v - r \\\\), and downstream it's \\\\( v + r \\\\).\\n\\nTime is distance divided by speed, so the time taken for each part of the journey (upstream and downstream) can be calculated by dividing the distance by the respective effective speed. The total time for a journey would be the sum of the time upstream and the time downstream.\\n\\nLet me write down the equations based on the problem statements. Let's consider the first comparison:\\n\\n1. The journey of 24 km upstream and 28 km downstream took half an hour less than the journey of 30 km upstream and 21 km downstream.\\n\\nLet me denote the time for 24 km up and 28 km down as \\\\( T_1 \\\\), and the time for 30 km up and 21 km down as \\\\( T_2 \\\\). According to the problem, \\\\( T_1 = T_2 - 0.5 \\\\) hours.\\n\\nSimilarly, the second comparison:\\n\\n2. The same journey (24 km up, 28 km down) took half an hour more than the journey of 15 km upstream and 42 km downstream.\\n\\nLet me denote the time for 15 km up and 42 km down as \\\\( T_3 \\\\). Then, \\\\( T_1 = T_3 + 0.5 \\\\) hours.\\n\\nTherefore, we have two equations:\\n\\n\\\\[\\n\\\\frac{24}{v - r} + \\\\frac{28}{v + r} = \\\\frac{30}{v - r} + \\\\frac{21}{v + r} - 0.5\\n\\\\]\\n\\nand\\n\\n\\\\[\\n\\\\frac{24}{v - r} + \\\\frac{28}{v + r} = \\\\frac{15}{v - r} + \\\\frac{42}{v + r} + 0.5\\n\\\\]\\n\\nHmm, these are the two equations we need to solve. Let me simplify these equations.\\n\\nStarting with the first equation:\\n\\nLeft side: \\\\( \\\\frac{24}{v - r} + \\\\frac{28}{v + r} \\\\)\\n\\nRight side: \\\\( \\\\frac{30}{v - r} + \\\\frac{21}{v + r} - 0.5 \\\\)\\n\\nLet me subtract the left side from the right side to set the equation to zero:\\n\\n\\\\( \\\\frac{30}{v - r} + \\\\frac{21}{v + r} - 0.5 - \\\\left( \\\\frac{24}{v - r} + \\\\frac{28}{v + r} \\\\right) = 0 \\\\)\\n\\nSimplify term by term:\\n\\n\\\\( \\\\frac{30 - 24}{v - r} + \\\\frac{21 - 28}{v + r} - 0.5 = 0 \\\\)\\n\\nWhich simplifies to:\\n\\n\\\\( \\\\frac{6}{v - r} - \\\\frac{7}{v + r} - 0.5 = 0 \\\\)\\n\\nSimilarly, for the second equation:\\n\\nLeft side: \\\\( \\\\frac{24}{v - r} + \\\\frac{28}{v + r} \\\\)\\n\\nRight side: \\\\( \\\\frac{15}{v - r} + \\\\frac{42}{v + r} + 0.5 \\\\)\\n\\nSubtract left side from right side:\\n\\n\\\\( \\\\frac{15}{v - r} + \\\\frac{42}{v + r} + 0.5 - \\\\left( \\\\frac{24}{v - r} + \\\\frac{28}{v + r} \\\\right) = 0 \\\\)\\n\\nSimplify term by term:\\n\\n\\\\( \\\\frac{15 - 24}{v - r} + \\\\frac{42 - 28}{v + r} + 0.5 = 0 \\\\)\\n\\nWhich simplifies to:\\n\\n\\\\( -\\\\frac{9}{v - r} + \\\\frac{14}{v + r} + 0.5 = 0 \\\\)\\n\\nSo now we have two equations:\\n\\n1. \\\\( \\\\frac{6}{v - r} - \\\\frac{7}{v + r} = 0.5 \\\\)\\n2. \\\\( -\\\\frac{9}{v - r} + \\\\frac{14}{v + r} = -0.5 \\\\)\\n\\nLet me write them as:\\n\\nEquation (1): \\\\( \\\\frac{6}{v - r} - \\\\frac{7}{v + r} = 0.5 \\\\)\\n\\nEquation (2): \\\\( -\\\\frac{9}{v - r} + \\\\frac{14}{v + r} = -0.5 \\\\)\\n\\nHmm, these are two equations with two variables, \\\\( \\\\frac{1}{v - r} \\\\) and \\\\( \\\\frac{1}{v + r} \\\\). Let me denote \\\\( x = \\\\frac{1}{v - r} \\\\) and \\\\( y = \\\\frac{1}{v + r} \\\\). Then, the equations become:\\n\\nEquation (1): \\\\( 6x - 7y = 0.5 \\\\)\\n\\nEquation (2): \\\\( -9x + 14y = -0.5 \\\\)\\n\\nNow, I can solve this system of linear equations for x and y. Let me write them again:\\n\\n1. \\\\( 6x - 7y = 0.5 \\\\)\\n2. \\\\( -9x + 14y = -0.5 \\\\)\\n\\nLet me use the elimination method. If I multiply equation (1) by 2, I get:\\n\\nEquation (1a): \\\\( 12x - 14y = 1 \\\\)\\n\\nNow, equation (2) is \\\\( -9x + 14y = -0.5 \\\\)\\n\\nIf I add equation (1a) and equation (2), the y terms will cancel out:\\n\\n\\\\( (12x - 14y) + (-9x + 14y) = 1 + (-0.5) \\\\)\\n\\nSimplify:\\n\\n\\\\( 3x = 0.5 \\\\)\\n\\nTherefore, \\\\( x = 0.5 / 3 = 1/6 \\\\)\\n\\nNow, substitute x = 1/6 back into equation (1):\\n\\n\\\\( 6*(1/6) -7y = 0.5 \\\\)\\n\\nSimplify:\\n\\n\\\\( 1 - 7y = 0.5 \\\\)\\n\\nSubtract 1:\\n\\n\\\\( -7y = -0.5 \\\\)\\n\\nDivide:\\n\\n\\\\( y = (-0.5)/(-7) = 0.5/7 = 1/14 \\\\)\\n\\nSo, we have x = 1/6 and y = 1/14. Recall that:\\n\\n\\\\( x = \\\\frac{1}{v - r} = 1/6 \\\\)\\n\\n\\\\( y = \\\\frac{1}{v + r} = 1/14 \\\\)\\n\\nTherefore, we can write:\\n\\n\\\\( v - r = 6 \\\\)\\n\\n\\\\( v + r = 14 \\\\)\\n\\nNow, solving these two equations:\\n\\nAdd the two equations:\\n\\n\\\\( (v - r) + (v + r) = 6 + 14 \\\\)\\n\\nWhich simplifies to:\\n\\n\\\\( 2v = 20 \\\\)\\n\\nTherefore, \\\\( v = 10 \\\\) km/h\\n\\nSubstituting back into \\\\( v - r = 6 \\\\):\\n\\n\\\\( 10 - r = 6 \\\\)\\n\\nThus, \\\\( r = 10 - 6 = 4 \\\\) km/h\\n\\nSo, the speed of the ship in still water is 10 km/h, and the speed of the river is 4 km/h.\\n\\nLet me verify these results to ensure there are no mistakes.\\n\\nFirst, check the first journey: 24 km upstream and 28 km downstream.\\n\\nUpstream speed: 10 - 4 = 6 km/h. Time upstream: 24 / 6 = 4 hours.\\n\\nDownstream speed: 10 + 4 = 14 km/h. Time downstream: 28 / 14 = 2 hours.\\n\\nTotal time: 4 + 2 = 6 hours.\\n\\nSecond journey: 30 km upstream and 21 km downstream.\\n\\nTime upstream: 30 / 6 = 5 hours.\\n\\nTime downstream: 21 / 14 = 1.5 hours.\\n\\nTotal time: 5 + 1.5 = 6.5 hours.\\n\\nDifference between the two journeys: 6.5 - 6 = 0.5 hours, which is half an hour. That's correct.\\n\\nThird journey: 15 km upstream and 42 km downstream.\\n\\nTime upstream: 15 / 6 = 2.5 hours.\\n\\nTime downstream: 42 / 14 = 3 hours.\\n\\nTotal time: 2.5 + 3 = 5.5 hours.\\n\\nDifference between the first journey (6 hours) and this one: 6 - 5.5 = 0.5 hours, which is half an hour more. That also checks out.\\n\\nTherefore, the solution seems correct. The speed of the ship in still water is 10 km/h and the speed of the river is 4 km/h.\\n\\n**Final Answer**\\nThe speed of the ship in still water is \\\\boxed{10} km/h and the speed of the river is \\\\boxed{4} km/h.\\n</think>\\n\\nLet \\\\( v \\\\) be the speed of the ship in still water (in km/h) and \\\\( r \\\\) be the speed of the river (in km/h). The effective speeds of the ship upstream and downstream are \\\\( v - r \\\\) and \\\\( v + r \\\\) respectively.\\n\\nWe are given two comparisons involving the time taken for different journeys. The first comparison states that traveling 24 km upstream and 28 km downstream took half an hour less than traveling 30 km upstream and 21 km downstream. The second comparison states that the same journey (24 km upstream and 28 km downstream) took half an hour more than traveling 15 km upstream and 42 km downstream.\\n\\nWe set up the following equations based on the time differences:\\n\\n1. For the first comparison:\\n   \\\\[\\n   \\\\frac{24}{v - r} + \\\\frac{28}{v + r} = \\\\frac{30}{v - r} + \\\\frac{21}{v + r} - 0.5\\n   \\\\]\\n   Simplifying this, we get:\\n   \\\\[\\n   \\\\frac{6}{v - r} - \\\\frac{7}{v + r} = 0.5\\n   \\\\]\\n\\n2. For the second comparison:\\n   \\\\[\\n   \\\\frac{24}{v - r} + \\\\frac{28}{v + r} = \\\\frac{15}{v - r} + \\\\frac{42}{v + r} + 0.5\\n   \\\\]\\n   Simplifying this, we get:\\n   \\\\[\\n   -\\\\frac{9}{v - r} + \\\\frac{14}{v + r} = -0.5\\n   \\\\]\\n\\nIntroducing \\\\( x = \\\\frac{1}{v - r} \\\\) and \\\\( y = \\\\frac{1}{v + r} \\\\), we convert these equations into a system of linear equations:\\n1. \\\\( 6x - 7y = 0.5 \\\\)\\n2. \\\\( -9x + 14y = -0.5 \\\\)\\n\\nSolving this system, we multiply the first equation by 2:\\n1. \\\\( 12x - 14y = 1 \\\\)\\n\\nAdding this to the second equation:\\n\\\\[\\n3x = 0.5 \\\\implies x = \\\\frac{1}{6}\\n\\\\]\\n\\nSubstituting \\\\( x = \\\\frac{1}{6} \\\\) back into the first equation:\\n\\\\[\\n6 \\\\left( \\\\frac{1}{6} \\\\right) - 7y = 0.5 \\\\implies 1 - 7y = 0.5 \\\\implies y = \\\\frac{1}{14}\\n\\\\]\\n\\nThus, we have:\\n\\\\[\\nv - r = 6 \\\\quad \\\\text{and} \\\\quad v + r = 14\\n\\\\]\\n\\nSolving these equations:\\n\\\\[\\n2v = 20 \\\\implies v = 10 \\\\quad \\\\text{and} \\\\quad r = 10 - 6 = 4\\n\\\\]\\n\\nThe speed of the ship in still water is \\\\boxed{10} km/h and the speed of the river is \\\\boxed{4} km/h.\"],\n",
       " 'correctness_math_verify': [True, False],\n",
       " 'correctness_llama': None,\n",
       " 'finish_reasons': None,\n",
       " 'correctness_count': 1,\n",
       " 'messages': [{'from': 'user',\n",
       "   'value': '## Task B-1.3.\\n\\nA ship traveling along a river has covered $24 \\\\mathrm{~km}$ upstream and $28 \\\\mathrm{~km}$ downstream. For this journey, it took half an hour less than for traveling $30 \\\\mathrm{~km}$ upstream and $21 \\\\mathrm{~km}$ downstream, or half an hour more than for traveling $15 \\\\mathrm{~km}$ upstream and $42 \\\\mathrm{~km}$ downstream, assuming that both the ship and the river move uniformly.\\n\\nDetermine the speed of the ship in still water and the speed of the river.'},\n",
       "  {'from': 'assistant',\n",
       "   'value': '<think>\\nOkay, so I need to find the speed of the ship in still water and the speed of the river. Let me start by recalling that when a ship is moving upstream, its effective speed is the speed of the ship minus the speed of the river. Conversely, when moving downstream, its effective speed is the ship\\'s speed plus the river\\'s speed. \\n\\nLet me denote the speed of the ship in still water as \\\\( v \\\\) (in km/h) and the speed of the river as \\\\( r \\\\) (also in km/h). Then, the upstream speed would be \\\\( v - r \\\\), and the downstream speed would be \\\\( v + r \\\\).\\n\\nThe problem mentions three different journeys:\\n\\n1. 24 km upstream and 28 km downstream, taking half an hour less than the second journey.\\n2. 30 km upstream and 21 km downstream, which takes half an hour more than the first journey.\\n3. 15 km upstream and 42 km downstream, which takes half an hour less than the first journey.\\n\\nWait, actually, the problem states: \"For this journey, it took half an hour less than for traveling 30 km upstream and 21 km downstream, or half an hour more than for traveling 15 km upstream and 42 km downstream...\"\\n\\nHmm, let me parse that again. The first journey (24 km upstream, 28 km downstream) took half an hour less than the journey with 30 km upstream and 21 km downstream. Alternatively, it took half an hour more than the journey with 15 km upstream and 42 km downstream. So, there are two comparisons here:\\n\\n- Time for 24 up + 28 down = Time for 30 up + 21 down - 0.5 hours\\n- Time for 24 up + 28 down = Time for 15 up + 42 down + 0.5 hours\\n\\nTherefore, we can set up two equations based on these time differences.\\n\\nFirst, let me express the time taken for each journey. Time is equal to distance divided by speed. So, for the first journey (24 km up, 28 km down):\\n\\nTime1 = \\\\( \\\\frac{24}{v - r} + \\\\frac{28}{v + r} \\\\)\\n\\nFor the second journey (30 km up, 21 km down):\\n\\nTime2 = \\\\( \\\\frac{30}{v - r} + \\\\frac{21}{v + r} \\\\)\\n\\nAccording to the problem, Time1 = Time2 - 0.5\\n\\nSimilarly, for the third journey (15 km up, 42 km down):\\n\\nTime3 = \\\\( \\\\frac{15}{v - r} + \\\\frac{42}{v + r} \\\\)\\n\\nAnd here, Time1 = Time3 + 0.5\\n\\nSo, we have two equations:\\n\\n1. \\\\( \\\\frac{24}{v - r} + \\\\frac{28}{v + r} = \\\\frac{30}{v - r} + \\\\frac{21}{v + r} - 0.5 \\\\)\\n2. \\\\( \\\\frac{24}{v - r} + \\\\frac{28}{v + r} = \\\\frac{15}{v - r} + \\\\frac{42}{v + r} + 0.5 \\\\)\\n\\nOkay, so now I need to solve these two equations for \\\\( v \\\\) and \\\\( r \\\\).\\n\\nLet me first work on the first equation:\\n\\n\\\\( \\\\frac{24}{v - r} + \\\\frac{28}{v + r} = \\\\frac{30}{v - r} + \\\\frac{21}{v + r} - 0.5 \\\\)\\n\\nLet me subtract \\\\( \\\\frac{24}{v - r} + \\\\frac{28}{v + r} \\\\) from both sides, but maybe it\\'s better to bring all terms to the left side:\\n\\n\\\\( \\\\frac{24}{v - r} + \\\\frac{28}{v + r} - \\\\frac{30}{v - r} - \\\\frac{21}{v + r} + 0.5 = 0 \\\\)\\n\\nSimplify the terms:\\n\\nFor the upstream terms: \\\\( 24 - 30 = -6 \\\\), so \\\\( \\\\frac{-6}{v - r} \\\\)\\n\\nFor the downstream terms: \\\\( 28 - 21 = 7 \\\\), so \\\\( \\\\frac{7}{v + r} \\\\)\\n\\nSo, the equation becomes:\\n\\n\\\\( \\\\frac{-6}{v - r} + \\\\frac{7}{v + r} + 0.5 = 0 \\\\)\\n\\nSimilarly, for the second equation:\\n\\n\\\\( \\\\frac{24}{v - r} + \\\\frac{28}{v + r} - \\\\frac{15}{v - r} - \\\\frac{42}{v + r} - 0.5 = 0 \\\\)\\n\\nSimplify:\\n\\nUpstream terms: \\\\( 24 - 15 = 9 \\\\), so \\\\( \\\\frac{9}{v - r} \\\\)\\n\\nDownstream terms: \\\\( 28 - 42 = -14 \\\\), so \\\\( \\\\frac{-14}{v + r} \\\\)\\n\\nThus:\\n\\n\\\\( \\\\frac{9}{v - r} - \\\\frac{14}{v + r} - 0.5 = 0 \\\\)\\n\\nNow, we have two equations:\\n\\n1. \\\\( -\\\\frac{6}{v - r} + \\\\frac{7}{v + r} + 0.5 = 0 \\\\)\\n2. \\\\( \\\\frac{9}{v - r} - \\\\frac{14}{v + r} - 0.5 = 0 \\\\)\\n\\nLet me denote \\\\( x = \\\\frac{1}{v - r} \\\\) and \\\\( y = \\\\frac{1}{v + r} \\\\). Then, the equations become:\\n\\n1. \\\\( -6x + 7y + 0.5 = 0 \\\\) ⇒ \\\\( -6x + 7y = -0.5 \\\\)\\n2. \\\\( 9x - 14y - 0.5 = 0 \\\\) ⇒ \\\\( 9x - 14y = 0.5 \\\\)\\n\\nNow, we have a system of linear equations:\\n\\nEquation (1): \\\\( -6x + 7y = -0.5 \\\\)\\n\\nEquation (2): \\\\( 9x - 14y = 0.5 \\\\)\\n\\nLet me solve this system using the elimination method. Let\\'s multiply Equation (1) by 2 to make the coefficients of y terms opposites:\\n\\nEquation (1) multiplied by 2: \\\\( -12x + 14y = -1 \\\\)\\n\\nNow, add this to Equation (2):\\n\\n\\\\( (-12x + 14y) + (9x -14y) = -1 + 0.5 \\\\)\\n\\nSimplify:\\n\\n\\\\( -3x = -0.5 \\\\)\\n\\nThus, \\\\( x = (-0.5)/(-3) = 0.5/3 ≈ 0.1667 \\\\)\\n\\nBut exact value is \\\\( x = 1/6 \\\\)\\n\\nNow, substitute \\\\( x = 1/6 \\\\) back into Equation (1):\\n\\n\\\\( -6*(1/6) + 7y = -0.5 \\\\)\\n\\nSimplify:\\n\\n\\\\( -1 + 7y = -0.5 \\\\)\\n\\nAdd 1 to both sides:\\n\\n7y = 0.5\\n\\nThus, \\\\( y = 0.5/7 = 1/14 ≈ 0.0714 \\\\)\\n\\nSo, \\\\( x = 1/6 \\\\) and \\\\( y = 1/14 \\\\)\\n\\nRecall that \\\\( x = \\\\frac{1}{v - r} = 1/6 \\\\) ⇒ \\\\( v - r = 6 \\\\)\\n\\nSimilarly, \\\\( y = \\\\frac{1}{v + r} = 1/14 \\\\) ⇒ \\\\( v + r = 14 \\\\)\\n\\nTherefore, we have two equations:\\n\\n1. \\\\( v - r = 6 \\\\)\\n2. \\\\( v + r = 14 \\\\)\\n\\nAdding these equations:\\n\\n\\\\( (v - r) + (v + r) = 6 + 14 \\\\)\\n\\nSimplify:\\n\\n\\\\( 2v = 20 \\\\) ⇒ \\\\( v = 10 \\\\)\\n\\nSubstituting back into \\\\( v + r = 14 \\\\):\\n\\n\\\\( 10 + r = 14 \\\\) ⇒ \\\\( r = 4 \\\\)\\n\\nSo, the speed of the ship in still water is 10 km/h, and the speed of the river is 4 km/h.\\n\\nLet me verify these results by plugging them back into the original time equations.\\n\\nFirst journey: 24/(10-4) + 28/(10+4) = 24/6 + 28/14 = 4 + 2 = 6 hours.\\n\\nSecond journey: 30/(10-4) + 21/(10+4) = 30/6 + 21/14 = 5 + 1.5 = 6.5 hours. So, 6.5 - 0.5 = 6 hours, which matches the first journey. Good.\\n\\nThird journey: 15/(10-4) + 42/(10+4) = 15/6 + 42/14 = 2.5 + 3 = 5.5 hours. Then, 5.5 + 0.5 = 6 hours, which also matches the first journey. Perfect.\\n\\nTherefore, the solution is correct.\\n\\n**Final Answer**\\nThe speed of the ship in still water is \\\\boxed{10} km/h and the speed of the river is \\\\boxed{4} km/h.\\n</think>\\n\\nLet \\\\( v \\\\) be the speed of the ship in still water (in km/h) and \\\\( r \\\\) be the speed of the river (in km/h). The effective speeds of the ship upstream and downstream are \\\\( v - r \\\\) and \\\\( v + r \\\\), respectively.\\n\\nWe are given three journeys with the following time relationships:\\n1. The journey of 24 km upstream and 28 km downstream takes half an hour less than the journey of 30 km upstream and 21 km downstream.\\n2. The journey of 24 km upstream and 28 km downstream takes half an hour more than the journey of 15 km upstream and 42 km downstream.\\n\\nWe set up the equations for the times taken for each journey:\\n1. For the first journey (24 km upstream, 28 km downstream):\\n   \\\\[\\n   \\\\frac{24}{v - r} + \\\\frac{28}{v + r}\\n   \\\\]\\n2. For the second journey (30 km upstream, 21 km downstream):\\n   \\\\[\\n   \\\\frac{30}{v - r} + \\\\frac{21}{v + r}\\n   \\\\]\\n3. For the third journey (15 km upstream, 42 km downstream):\\n   \\\\[\\n   \\\\frac{15}{v - r} + \\\\frac{42}{v + r}\\n   \\\\]\\n\\nThe time relationships give us the following equations:\\n1. \\\\[\\n   \\\\frac{24}{v - r} + \\\\frac{28}{v + r} = \\\\frac{30}{v - r} + \\\\frac{21}{v + r} - 0.5\\n   \\\\]\\n2. \\\\[\\n   \\\\frac{24}{v - r} + \\\\frac{28}{v + r} = \\\\frac{15}{v - r} + \\\\frac{42}{v + r} + 0.5\\n   \\\\]\\n\\nIntroducing variables \\\\( x = \\\\frac{1}{v - r} \\\\) and \\\\( y = \\\\frac{1}{v + r} \\\\), we transform the equations into:\\n1. \\\\[\\n   -6x + 7y = -0.5\\n   \\\\]\\n2. \\\\[\\n   9x - 14y = 0.5\\n   \\\\]\\n\\nSolving this system of linear equations:\\n1. Multiply the first equation by 2:\\n   \\\\[\\n   -12x + 14y = -1\\n   \\\\]\\n2. Add the modified first equation to the second equation:\\n   \\\\[\\n   -3x = -0.5 \\\\implies x = \\\\frac{1}{6}\\n   \\\\]\\n3. Substitute \\\\( x = \\\\frac{1}{6} \\\\) into the first equation:\\n   \\\\[\\n   -6 \\\\left( \\\\frac{1}{6} \\\\right) + 7y = -0.5 \\\\implies -1 + 7y = -0.5 \\\\implies 7y = 0.5 \\\\implies y = \\\\frac{1}{14}\\n   \\\\]\\n\\nConverting back to \\\\( v \\\\) and \\\\( r \\\\):\\n1. \\\\( v - r = 6 \\\\)\\n2. \\\\( v + r = 14 \\\\)\\n\\nSolving these equations:\\n1. Adding the two equations:\\n   \\\\[\\n   2v = 20 \\\\implies v = 10\\n   \\\\]\\n2. Substituting \\\\( v = 10 \\\\) into \\\\( v + r = 14 \\\\):\\n   \\\\[\\n   10 + r = 14 \\\\implies r = 4\\n   \\\\]\\n\\nThe speed of the ship in still water is \\\\(\\\\boxed{10}\\\\) km/h and the speed of the river is \\\\(\\\\boxed{4}\\\\) km/h.'}]}"
      ]
     },
     "execution_count": 69,
     "metadata": {},
     "output_type": "execute_result"
    }
   ],
   "source": [
    "ds['train'][0]"
   ]
  },
  {
   "cell_type": "code",
   "execution_count": 60,
   "metadata": {},
   "outputs": [
    {
     "data": {
      "text/plain": [
       "{'level': 'Level 5',\n",
       " 'type': 'Algebra',\n",
       " 'data_source': 'DigitalLearningGmbH/MATH-lighteval',\n",
       " 'prompt': array([{'content': \"Let \\\\[f(x) = \\\\left\\\\{\\n\\\\begin{array}{cl} ax+3, &\\\\text{ if }x>2, \\\\\\\\\\nx-5 &\\\\text{ if } -2 \\\\le x \\\\le 2, \\\\\\\\\\n2x-b &\\\\text{ if } x <-2.\\n\\\\end{array}\\n\\\\right.\\\\]Find $a+b$ if the piecewise function is continuous (which means that its graph can be drawn without lifting your pencil from the paper). Let's think step by step and output the final answer within \\\\boxed{}.\", 'role': 'user'}],\n",
       "       dtype=object),\n",
       " 'ability': 'math',\n",
       " 'reward_model': {'ground_truth': '0', 'style': 'rule'},\n",
       " 'extra_info': {'index': 0, 'split': 'train'}}"
      ]
     },
     "execution_count": 60,
     "metadata": {},
     "output_type": "execute_result"
    }
   ],
   "source": [
    "df_math.iloc[0].to_dict()"
   ]
  },
  {
   "cell_type": "code",
   "execution_count": 68,
   "metadata": {},
   "outputs": [
    {
     "data": {
      "text/plain": [
       "{'data_source': 'openai/gsm8k',\n",
       " 'prompt': array([{'content': 'Natalia sold clips to 48 of her friends in April, and then she sold half as many clips in May. How many clips did Natalia sell altogether in April and May? Let\\'s think step by step and output the final answer after \"####\".', 'role': 'user'}],\n",
       "       dtype=object),\n",
       " 'ability': 'math',\n",
       " 'reward_model': {'ground_truth': '72', 'style': 'rule'},\n",
       " 'extra_info': {'answer': 'Natalia sold 48/2 = <<48/2=24>>24 clips in May.\\nNatalia sold 48+24 = <<48+24=72>>72 clips altogether in April and May.\\n#### 72',\n",
       "  'index': 0,\n",
       "  'question': 'Natalia sold clips to 48 of her friends in April, and then she sold half as many clips in May. How many clips did Natalia sell altogether in April and May?',\n",
       "  'split': 'train'}}"
      ]
     },
     "execution_count": 68,
     "metadata": {},
     "output_type": "execute_result"
    }
   ],
   "source": [
    "df_gsm8k.iloc[0].to_dict()"
   ]
  },
  {
   "cell_type": "code",
   "execution_count": 84,
   "metadata": {},
   "outputs": [
    {
     "data": {
      "application/vnd.jupyter.widget-view+json": {
       "model_id": "292ac24da1ac4edab4e0087eae3df57c",
       "version_major": 2,
       "version_minor": 0
      },
      "text/plain": [
       "README.md:   0%|          | 0.00/932 [00:00<?, ?B/s]"
      ]
     },
     "metadata": {},
     "output_type": "display_data"
    },
    {
     "data": {
      "application/vnd.jupyter.widget-view+json": {
       "model_id": "47d64e7222544f62859167078aeb69c4",
       "version_major": 2,
       "version_minor": 0
      },
      "text/plain": [
       "train-00000-of-00001.parquet:   0%|          | 0.00/81.7k [00:00<?, ?B/s]"
      ]
     },
     "metadata": {},
     "output_type": "display_data"
    },
    {
     "data": {
      "application/vnd.jupyter.widget-view+json": {
       "model_id": "46f964991a5a4411824f909e2f81b3e8",
       "version_major": 2,
       "version_minor": 0
      },
      "text/plain": [
       "Generating train split:   0%|          | 0/30 [00:00<?, ? examples/s]"
      ]
     },
     "metadata": {},
     "output_type": "display_data"
    }
   ],
   "source": [
    "from datasets import load_dataset\n",
    "\n",
    "ds = load_dataset(\"HuggingFaceH4/aime_2024\")"
   ]
  },
  {
   "cell_type": "code",
   "execution_count": 85,
   "metadata": {},
   "outputs": [
    {
     "data": {
      "text/plain": [
       "DatasetDict({\n",
       "    train: Dataset({\n",
       "        features: ['id', 'problem', 'solution', 'answer', 'url', 'year'],\n",
       "        num_rows: 30\n",
       "    })\n",
       "})"
      ]
     },
     "execution_count": 85,
     "metadata": {},
     "output_type": "execute_result"
    }
   ],
   "source": [
    "ds"
   ]
  },
  {
   "cell_type": "code",
   "execution_count": 86,
   "metadata": {},
   "outputs": [
    {
     "data": {
      "application/vnd.jupyter.widget-view+json": {
       "model_id": "2b77accf306f42d3b865f3298cc71cc6",
       "version_major": 2,
       "version_minor": 0
      },
      "text/plain": [
       "README.md:   0%|          | 0.00/339 [00:00<?, ?B/s]"
      ]
     },
     "metadata": {},
     "output_type": "display_data"
    },
    {
     "data": {
      "application/vnd.jupyter.widget-view+json": {
       "model_id": "3600ec8f097842f29a29fa69f0c1dcfb",
       "version_major": 2,
       "version_minor": 0
      },
      "text/plain": [
       "test-00000-of-00001.parquet:   0%|          | 0.00/61.6k [00:00<?, ?B/s]"
      ]
     },
     "metadata": {},
     "output_type": "display_data"
    },
    {
     "data": {
      "application/vnd.jupyter.widget-view+json": {
       "model_id": "533a29e4e48e4e988bff4bd599f97b61",
       "version_major": 2,
       "version_minor": 0
      },
      "text/plain": [
       "Generating test split:   0%|          | 0/198 [00:00<?, ? examples/s]"
      ]
     },
     "metadata": {},
     "output_type": "display_data"
    }
   ],
   "source": [
    "from datasets import load_dataset\n",
    "\n",
    "ds = load_dataset(\"hendrydong/gpqa_diamond\")"
   ]
  },
  {
   "cell_type": "code",
   "execution_count": 87,
   "metadata": {},
   "outputs": [
    {
     "data": {
      "text/plain": [
       "DatasetDict({\n",
       "    test: Dataset({\n",
       "        features: ['solution', 'problem', 'domain'],\n",
       "        num_rows: 198\n",
       "    })\n",
       "})"
      ]
     },
     "execution_count": 87,
     "metadata": {},
     "output_type": "execute_result"
    }
   ],
   "source": [
    "ds"
   ]
  },
  {
   "cell_type": "code",
   "execution_count": 103,
   "metadata": {},
   "outputs": [
    {
     "data": {
      "text/plain": [
       "array([ 0.5,  0.5,  0.5,  0.5, -2. ])"
      ]
     },
     "execution_count": 103,
     "metadata": {},
     "output_type": "execute_result"
    }
   ],
   "source": [
    "import numpy as np\n",
    "temp = np.array([1, 1, 1, 1, 0])+0.0\n",
    "mean_temp = np.mean(temp)\n",
    "std_temp = np.std(temp)\n",
    "temp-=mean_temp\n",
    "temp/=std_temp\n",
    "temp"
   ]
  },
  {
   "cell_type": "code",
   "execution_count": 104,
   "metadata": {},
   "outputs": [
    {
     "data": {
      "text/plain": [
       "array([ 2. , -0.5, -0.5, -0.5, -0.5])"
      ]
     },
     "execution_count": 104,
     "metadata": {},
     "output_type": "execute_result"
    }
   ],
   "source": [
    "import numpy as np\n",
    "temp = np.array([1, 0, 0, 0, 0])+0.0\n",
    "mean_temp = np.mean(temp)\n",
    "std_temp = np.std(temp)\n",
    "temp-=mean_temp\n",
    "temp/=std_temp\n",
    "temp"
   ]
  },
  {
   "cell_type": "code",
   "execution_count": 105,
   "metadata": {},
   "outputs": [
    {
     "data": {
      "text/plain": [
       "array([ 0.81649658,  0.81649658,  0.81649658, -1.22474487, -1.22474487])"
      ]
     },
     "execution_count": 105,
     "metadata": {},
     "output_type": "execute_result"
    }
   ],
   "source": [
    "import numpy as np\n",
    "temp = np.array([1, 1, 1, 0, 0])+0.0\n",
    "mean_temp = np.mean(temp)\n",
    "std_temp = np.std(temp)\n",
    "temp-=mean_temp\n",
    "temp/=std_temp\n",
    "temp"
   ]
  },
  {
   "cell_type": "code",
   "execution_count": 106,
   "metadata": {},
   "outputs": [
    {
     "data": {
      "text/plain": [
       "array([ 1.22474487,  1.22474487, -0.81649658, -0.81649658, -0.81649658])"
      ]
     },
     "execution_count": 106,
     "metadata": {},
     "output_type": "execute_result"
    }
   ],
   "source": [
    "import numpy as np\n",
    "temp = np.array([1, 1, 0, 0, 0])+0.0\n",
    "mean_temp = np.mean(temp)\n",
    "std_temp = np.std(temp)\n",
    "temp-=mean_temp\n",
    "temp/=std_temp\n",
    "temp"
   ]
  },
  {
   "cell_type": "code",
   "execution_count": 107,
   "metadata": {},
   "outputs": [
    {
     "data": {
      "application/vnd.jupyter.widget-view+json": {
       "model_id": "0f28534106024b8791c0e36f1c915bd6",
       "version_major": 2,
       "version_minor": 0
      },
      "text/plain": [
       "README.md:   0%|          | 0.00/1.78k [00:00<?, ?B/s]"
      ]
     },
     "metadata": {},
     "output_type": "display_data"
    },
    {
     "data": {
      "application/vnd.jupyter.widget-view+json": {
       "model_id": "8560ff93731e44c295865038f6a29c67",
       "version_major": 2,
       "version_minor": 0
      },
      "text/plain": [
       "deepscaler.json:   0%|          | 0.00/21.5M [00:00<?, ?B/s]"
      ]
     },
     "metadata": {},
     "output_type": "display_data"
    },
    {
     "data": {
      "application/vnd.jupyter.widget-view+json": {
       "model_id": "d9860112718c427b8f0c7b0f19bee466",
       "version_major": 2,
       "version_minor": 0
      },
      "text/plain": [
       "Generating train split:   0%|          | 0/40315 [00:00<?, ? examples/s]"
      ]
     },
     "metadata": {},
     "output_type": "display_data"
    }
   ],
   "source": [
    "from datasets import load_dataset\n",
    "\n",
    "# Login using e.g. `huggingface-cli login` to access this dataset\n",
    "ds = load_dataset(\"agentica-org/DeepScaleR-Preview-Dataset\")"
   ]
  },
  {
   "cell_type": "code",
   "execution_count": 108,
   "metadata": {},
   "outputs": [
    {
     "data": {
      "text/plain": [
       "DatasetDict({\n",
       "    train: Dataset({\n",
       "        features: ['problem', 'answer', 'solution'],\n",
       "        num_rows: 40315\n",
       "    })\n",
       "})"
      ]
     },
     "execution_count": 108,
     "metadata": {},
     "output_type": "execute_result"
    }
   ],
   "source": [
    "ds"
   ]
  },
  {
   "cell_type": "code",
   "execution_count": null,
   "metadata": {},
   "outputs": [],
   "source": []
  }
 ],
 "metadata": {
  "kernelspec": {
   "display_name": ".venv",
   "language": "python",
   "name": ".venv"
  },
  "language_info": {
   "codemirror_mode": {
    "name": "ipython",
    "version": 3
   },
   "file_extension": ".py",
   "mimetype": "text/x-python",
   "name": "python",
   "nbconvert_exporter": "python",
   "pygments_lexer": "ipython3",
   "version": "3.10.12"
  }
 },
 "nbformat": 4,
 "nbformat_minor": 2
}
